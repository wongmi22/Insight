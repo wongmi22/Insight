{
 "cells": [
  {
   "cell_type": "code",
   "execution_count": 257,
   "metadata": {
    "collapsed": false
   },
   "outputs": [],
   "source": [
    "import MySQLdb\n",
    "import MySQLdb.cursors\n",
    "import pandas as pd\n",
    "from sklearn import preprocessing\n",
    "from sklearn.ensemble import RandomForestClassifier\n",
    "from sklearn.ensemble import RandomForestRegressor\n",
    "from sklearn.linear_model import LinearRegression as LinR\n",
    "import numpy as np\n",
    "import sys\n",
    "import re\n",
    "%matplotlib inline\n",
    "import matplotlib as plt\n",
    "from __future__ import division\n",
    "from sklearn.decomposition import PCA"
   ]
  },
  {
   "cell_type": "code",
   "execution_count": 258,
   "metadata": {
    "collapsed": false
   },
   "outputs": [],
   "source": [
    "conn = MySQLdb.connect(\n",
    "            user=\"root\",\n",
    "            passwd=\"\",\n",
    "            db=\"Player_Team_Data\",\n",
    "            cursorclass=MySQLdb.cursors.DictCursor)"
   ]
  },
  {
   "cell_type": "code",
   "execution_count": 259,
   "metadata": {
    "collapsed": false
   },
   "outputs": [],
   "source": [
    "df_all_players = pd.read_csv('~/Insight/Players100.csv')\n",
    "    # Remove rows that were separated by random 'Player' entries\n",
    "df_all_players = df_all_players[df_all_players.Name != 'Player']\n",
    "\n",
    "name_list=list(df_all_players.values)\n",
    "new_name_list = []\n",
    "\n",
    "for name in name_list:\n",
    "        # convert entries to strings\n",
    "    name = str(name)\n",
    "    new_name_list.append(name)\n",
    "\n",
    "unique_name_list=list(set(new_name_list))\n",
    "unique_name_list.sort()\n",
    "name_list_final = []\n",
    "for name in unique_name_list:\n",
    "    match = re.search('([\\w\\.\\-\\']+) ([\\w\\.\\-]+)', name)\n",
    "    prename = match.group(1).lower()[1:] + ' ' + match.group(2).lower()\n",
    "    name_list_final.append(prename)\n",
    "\n",
    "name_list_fin = [x for x in name_list_final if x != 'george hill']\n",
    "\n",
    "validation={}\n",
    "\n",
    " \n",
    "\n",
    "def get_fanduel(predict,avg,tru):\n",
    "    fanduel_pre = predict[0]+predict[2]*1.2+predict[3]*1.5+predict[4]*2+predict[5]*2-predict[6]\n",
    "    fanduel_avg = avg[0]+avg[2]*1.2+avg[3]*1.5+avg[4]*2+avg[5]*2-avg[6]\n",
    "    fanduel_tru = tru[0]+tru[2]*1.2+tru[3]*1.5+tru[4]*2+tru[5]*2-tru[6]\n",
    "    return fanduel_pre, fanduel_avg, fanduel_tru\n",
    "\n",
    "def get_trend(fan_pre,fan_avg,fan_tru):\n",
    "    \n",
    "    if (fan_pre > fan_avg) and (fan_tru > fan_avg):\n",
    "        val = 1\n",
    "    elif (fan_pre < fan_avg) and (fan_tru < fan_avg):\n",
    "        val = 1\n",
    "    elif (fan_pre < fan_avg) and (fan_tru > fan_avg):\n",
    "        val = 0\n",
    "    elif (fan_pre > fan_avg) and (fan_tru < fan_avg):    \n",
    "        val = 0\n",
    "    else:\n",
    "        val = 2\n",
    "    return val"
   ]
  },
  {
   "cell_type": "code",
   "execution_count": 260,
   "metadata": {
    "collapsed": false
   },
   "outputs": [
    {
     "name": "stdout",
     "output_type": "stream",
     "text": [
      "al horford\n",
      "al jefferson\n",
      "amir johnson\n",
      "andre drummond\n",
      "anthony davis\n",
      "arron afflalo\n",
      "avery bradley\n",
      "ben mclemore\n",
      "blake griffin\n",
      "bradley beal\n",
      "brandon bass\n",
      "brandon knight\n",
      "brook lopez\n",
      "carlos boozer\n",
      "carmelo anthony\n",
      "chris bosh\n",
      "chris paul\n",
      "corey brewer\n",
      "courtney lee\n",
      "damian lillard\n",
      "danny green\n",
      "david west\n",
      "deandre jordan\n",
      "demarcus cousins\n",
      "demarre carroll\n",
      "demar derozan\n",
      "deron williams\n",
      "derrick favors\n",
      "dion waiters\n",
      "dirk nowitzki\n",
      "draymond green\n",
      "dwyane wade\n",
      "enes kanter\n",
      "eric bledsoe\n",
      "gerald green\n",
      "gerald henderson\n",
      "giannis antetokounmpo\n",
      "goran dragic\n",
      "gordon hayward\n",
      "gorgui dieng\n",
      "harrison barnes\n",
      "isaiah thomas\n",
      "jamal crawford\n",
      "james harden\n",
      "jarrett jack\n",
      "jeff green\n",
      "jeff teague\n",
      "jeremy lin\n",
      "jimmy butler\n",
      "joe johnson\n",
      "john wall\n",
      "jonas valanciunas\n",
      "jordan hill\n",
      "josh smith\n",
      "kawhi leonard\n",
      "kenneth faried\n",
      "kentavious caldwell-pope\n",
      "kevin durant\n",
      "kevin love\n",
      "khris middleton\n",
      "klay thompson\n",
      "kyle korver\n",
      "kyle lowry\n",
      "kyrie irving\n",
      "lamarcus aldridge\n",
      "lebron james\n",
      "louis williams\n",
      "luol deng\n",
      "manu ginobili\n",
      "marc gasol\n",
      "marcin gortat\n",
      "mario chalmers\n",
      "markieff morris\n",
      "michael carter-williams\n",
      "mike conley\n",
      "monta ellis\n",
      "nene hilario\n",
      "nikola vucevic\n",
      "pau gasol\n",
      "paul millsap\n",
      "paul pierce\n",
      "reggie jackson\n",
      "rodney stuckey\n",
      "roy hibbert\n",
      "rudy gay\n",
      "russell westbrook\n",
      "serge ibaka\n",
      "stephen curry\n",
      "thaddeus young\n",
      "tim duncan\n",
      "tony parker\n",
      "trevor ariza\n",
      "trey burke\n",
      "ty lawson\n",
      "tyreke evans\n",
      "tyson chandler\n",
      "victor oladipo\n",
      "wilson chandler\n",
      "zach randolph\n"
     ]
    }
   ],
   "source": [
    "Acc_dict ={}\n",
    "for player in name_list_fin:\n",
    "    print player\n",
    "    cmd_Rk= 'SELECT Rk FROM NBA_player_data WHERE Player_Name IN (\\'' + player + '\\')  AND Year IN (\\'2015\\');'\n",
    "    df_Rk = pd.read_sql(cmd_Rk, con=conn) \n",
    "    Accuracy_PD=pd.DataFrame(columns=['PTS','3P','TRB','AST','STL','BLK','TOV'])\n",
    "    Truth_PD=pd.DataFrame(columns=['PTS','3P','TRB','AST','STL','BLK','TOV'])\n",
    "    for Rki in df_Rk.Rk:\n",
    "        Rk = str(Rki)\n",
    "        cmd_target_2015 = 'SELECT PTS,3P,TRB,AST,STL,BLK,TOV FROM NBA_player_data_MP WHERE Player_Name IN (\\'' + player + '\\') AND Year IN (\\'2015\\') AND Rk < '+Rk+' ;'\n",
    "        cmd_target_2014 = 'SELECT PTS,3P,TRB,AST,STL,BLK,TOV FROM NBA_player_data_MP WHERE Player_Name IN (\\'' + player + '\\') AND Year IN (\\'2014\\') AND Rk >= '+Rk+' ;'\n",
    "        cmd_train_2015 = 'SELECT Rk,Home_Away,DateDiff,TeamID,Win,OPPG,OTPR,O3Ppercent,ORPG,OBPG,OSPG,DEF,O3PM,OFGpercent,OTPG,OAPG,TPG,SPG,TRBR,OBLKpercent FROM NBA_player_data_MP WHERE Player_Name IN (\\'' + player + '\\') AND Year IN (\\'2015\\') AND Rk < '+Rk+';'\n",
    "        cmd_train_2014 = 'SELECT Rk,Home_Away,DateDiff,TeamID,Win,OPPG,OTPR,O3Ppercent,ORPG,OBPG,OSPG,DEF,O3PM,OFGpercent,OTPG,OAPG,TPG,SPG,TRBR,OBLKpercent FROM NBA_player_data_MP WHERE Player_Name IN (\\'' + player + '\\') AND Year IN (\\'2014\\') AND Rk >= '+Rk+';'\n",
    "        cmd_operate = 'SELECT Rk,Home_Away,DateDiff,TeamID,Win,OPPG,OTPR,O3Ppercent,ORPG,OBPG,OSPG,DEF,O3PM,OFGpercent,OTPG,OAPG,TPG,SPG,TRBR,OBLKpercent FROM NBA_player_data_MP WHERE Player_Name IN (\\'' + player + '\\') AND Year IN (\\'2015\\') AND Rk = '+Rk+';'\n",
    "        cmd_truth = 'SELECT PTS,3P,TRB,AST,STL,BLK,TOV FROM NBA_player_data_MP WHERE Player_Name IN (\\'' + player + '\\') AND Year IN (\\'2015\\') AND Rk = '+Rk+' ;'\n",
    "        cmd_min_2015 = 'SELECT MP FROM NBA_player_data_MP WHERE Player_Name IN (\\'' + player + '\\') AND Year IN (\\'2015\\') AND Rk < '+Rk+';'   \n",
    "        cmd_min_2014 = 'SELECT MP FROM NBA_player_data_MP WHERE Player_Name IN (\\'' + player + '\\') AND Year IN (\\'2015\\') AND Rk >= '+Rk+';'   \n",
    "\n",
    "\n",
    "        df_target_2015 = pd.read_sql(cmd_target_2015, con=conn) \n",
    "        df_target_2014 = pd.read_sql(cmd_target_2014, con=conn)\n",
    "        df_min_2015 = pd.read_sql(cmd_min_2015, con=conn) \n",
    "        df_min_2014 = pd.read_sql(cmd_min_2014, con=conn) \n",
    "        df_train_2015 = pd.read_sql(cmd_train_2015, con=conn) \n",
    "        df_train_2014 = pd.read_sql(cmd_train_2014, con=conn) \n",
    "        df_operate = pd.read_sql(cmd_operate, con=conn) \n",
    "        df_truth = pd.read_sql(cmd_truth, con=conn) \n",
    "        df_truth = df_truth.applymap(lambda x: float(x))\n",
    "       \n",
    "\n",
    "        df_min = pd.concat([df_min_2014, df_min_2015],ignore_index=True)\n",
    "        df_target=pd.concat([df_target_2014, df_target_2015],ignore_index=True)\n",
    "        df_train=pd.concat([df_train_2014, df_train_2015],ignore_index=True)\n",
    "        df_target = df_target.applymap(lambda x:float(x))\n",
    "        df_train = df_train.applymap(lambda x:float(x))\n",
    "        df_target_2015 = df_target_2015.applymap(lambda x: float(x))\n",
    "\n",
    "        df_inquire = df_operate.applymap(lambda x:float(x))\n",
    "        df_train_plus_inquire=pd.concat([df_train, df_inquire])\n",
    "        if int(Rk) < 20:\n",
    "            average_stats=df_target.mean().apply(lambda x: round(x)) \n",
    "        elif int(Rk) >= 20:\n",
    "            average_stats=df_target_2015.mean().apply(lambda x: round(x))\n",
    "        df_bool = df_target.copy()\n",
    "        df_bool.PTS = df_target.PTS.apply(lambda x: x<average_stats.PTS.mean())\n",
    "        df_bool['3P'] = df_target['3P'].apply(lambda x: x<average_stats['3P'].mean())\n",
    "        df_bool.TRB = df_target.TRB.apply(lambda x: x<average_stats.TRB.mean())\n",
    "        df_bool.AST = df_target.AST.apply(lambda x: x<average_stats.AST.mean())\n",
    "        df_bool.STL = df_target.STL.apply(lambda x: x<average_stats.STL.mean())\n",
    "        df_bool.BLK = df_target.BLK.apply(lambda x: x<average_stats.BLK.mean())\n",
    "        df_bool.TOV = df_target.TOV.apply(lambda x: x<average_stats.TOV.mean())\n",
    "        df_truth_bool = df_truth.copy()\n",
    "\n",
    "        df_truth_bool.PTS = df_truth.PTS.apply(lambda x: x<average_stats.PTS.mean())\n",
    "        df_truth_bool['3P'] = df_truth['3P'].apply(lambda x: x<average_stats['3P'].mean())\n",
    "        df_truth_bool.TRB = df_truth.TRB.apply(lambda x: x<average_stats.TRB.mean())\n",
    "        df_truth_bool.AST = df_truth.AST.apply(lambda x: x<average_stats.AST.mean())\n",
    "        df_truth_bool.STL = df_truth.STL.apply(lambda x: x<average_stats.STL.mean())\n",
    "        df_truth_bool.BLK = df_truth.BLK.apply(lambda x: x<average_stats.BLK.mean())\n",
    "        df_truth_bool.TOV = df_truth.TOV.apply(lambda x: x<average_stats.TOV.mean())\n",
    "\n",
    "        df_raw = df_train_plus_inquire.reindex()\n",
    "        df_raw_scaled = df_raw.copy()\n",
    "        df_raw_scaled = df_raw_scaled.applymap(lambda x: np.log(x))\n",
    "        df_raw_transform = df_raw.copy()\n",
    "\n",
    "        df_raw_scaled = df_raw_scaled.apply(lambda x:preprocessing.StandardScaler().fit(x).transform(x))\n",
    "        df_raw_transform = df_raw_transform.apply(lambda x:preprocessing.StandardScaler().fit(x))\n",
    "\n",
    "        #df_train_reduced=pd.DataFrame(train_reduced)\n",
    "        df_evaluate = df_raw_scaled.tail(1)\n",
    "        df_train_scaled = df_raw_scaled.iloc[:-1]\n",
    "\n",
    "        rf = RandomForestClassifier(n_estimators=100)\n",
    "        rf.fit(df_train_scaled, df_bool)\n",
    "        predictions = pd.DataFrame(rf.predict(df_evaluate),columns=['PTS','3P','TRB','AST','STL','BLK','TOV']).applymap(lambda x:bool(x))\n",
    "        pd_accuracy = predictions == df_truth_bool\n",
    "        Accuracy_PD = pd.concat([Accuracy_PD, pd_accuracy],ignore_index=True)\n",
    "        Truth_PD = pd.concat([Truth_PD, pd_accuracy],ignore_index=True)\n",
    "    Ast_a= Accuracy_PD['AST'].value_counts(sort=False)[1]/len(Accuracy_PD)\n",
    "    Reb_a= Accuracy_PD['TRB'].value_counts(sort=False)[1]/len(Accuracy_PD)\n",
    "    Tp_a= Accuracy_PD['3P'].value_counts(sort=False)[1]/len(Accuracy_PD)\n",
    "    Pts_a= Accuracy_PD['PTS'].value_counts(sort=False)[1]/len(Accuracy_PD)\n",
    "    Stl_a= Accuracy_PD['STL'].value_counts(sort=False)[1]/len(Accuracy_PD)\n",
    "    Blk_a= Accuracy_PD['BLK'].value_counts(sort=False)[1]/len(Accuracy_PD)\n",
    "    Tov_a= Accuracy_PD['TOV'].value_counts(sort=False)[1]/len(Accuracy_PD)\n",
    "    Acc_list = [Pts_a, Tp_a, Reb_a, Ast_a, Stl_a, Blk_a, Tov_a]\n",
    "    Acc_dict[player]=Acc_list"
   ]
  },
  {
   "cell_type": "code",
   "execution_count": 261,
   "metadata": {
    "collapsed": false
   },
   "outputs": [],
   "source": [
    "df_Acc = pd.DataFrame(Acc_dict,index=['PTS','3P','TRB','AST','STL','BLK','TOV'])"
   ]
  },
  {
   "cell_type": "code",
   "execution_count": 262,
   "metadata": {
    "collapsed": false
   },
   "outputs": [],
   "source": [
    "df_AccT=df_Acc.T"
   ]
  },
  {
   "cell_type": "code",
   "execution_count": 274,
   "metadata": {
    "collapsed": false
   },
   "outputs": [
    {
     "data": {
      "text/plain": [
       "0.59411991304273981"
      ]
     },
     "execution_count": 274,
     "metadata": {},
     "output_type": "execute_result"
    }
   ],
   "source": [
    "df_AccT.TOV.mean()"
   ]
  },
  {
   "cell_type": "code",
   "execution_count": 264,
   "metadata": {
    "collapsed": false
   },
   "outputs": [
    {
     "data": {
      "text/plain": [
       "0.56279207045811375"
      ]
     },
     "execution_count": 264,
     "metadata": {},
     "output_type": "execute_result"
    }
   ],
   "source": [
    "df_AccT.AST.mean()"
   ]
  },
  {
   "cell_type": "code",
   "execution_count": 265,
   "metadata": {
    "collapsed": false
   },
   "outputs": [],
   "source": [
    "score =[]\n",
    "for i,f in enumerate(f_pre):\n",
    "    s=get_trend(f,f_avg[i],f_tru[i])\n",
    "    score.append(s)\n"
   ]
  },
  {
   "cell_type": "code",
   "execution_count": 266,
   "metadata": {
    "collapsed": false
   },
   "outputs": [
    {
     "ename": "KeyError",
     "evalue": "0",
     "output_type": "error",
     "traceback": [
      "\u001b[0;31m---------------------------------------------------------------------------\u001b[0m",
      "\u001b[0;31mKeyError\u001b[0m                                  Traceback (most recent call last)",
      "\u001b[0;32m<ipython-input-266-3b6e977f0d94>\u001b[0m in \u001b[0;36m<module>\u001b[0;34m()\u001b[0m\n\u001b[1;32m      1\u001b[0m \u001b[0mx\u001b[0m \u001b[0;34m=\u001b[0m \u001b[0;34m[\u001b[0m\u001b[0;36m1\u001b[0m\u001b[0;34m,\u001b[0m\u001b[0;36m2\u001b[0m\u001b[0;34m,\u001b[0m\u001b[0;36m3\u001b[0m\u001b[0;34m]\u001b[0m\u001b[0;34m\u001b[0m\u001b[0m\n\u001b[0;32m----> 2\u001b[0;31m \u001b[0mplt\u001b[0m\u001b[0;34m.\u001b[0m\u001b[0mpyplot\u001b[0m\u001b[0;34m.\u001b[0m\u001b[0mbar\u001b[0m\u001b[0;34m(\u001b[0m \u001b[0mx\u001b[0m\u001b[0;34m,\u001b[0m\u001b[0;34m[\u001b[0m\u001b[0mpredictions\u001b[0m\u001b[0;34m[\u001b[0m\u001b[0;36m0\u001b[0m\u001b[0;34m]\u001b[0m\u001b[0;34m,\u001b[0m\u001b[0maverage_stats\u001b[0m\u001b[0;34m[\u001b[0m\u001b[0;36m0\u001b[0m\u001b[0;34m]\u001b[0m \u001b[0;34m,\u001b[0m \u001b[0mtrue_stats\u001b[0m\u001b[0;34m[\u001b[0m\u001b[0;36m0\u001b[0m\u001b[0;34m]\u001b[0m\u001b[0;34m]\u001b[0m\u001b[0;34m)\u001b[0m\u001b[0;34m\u001b[0m\u001b[0m\n\u001b[0m",
      "\u001b[0;32m//anaconda/lib/python2.7/site-packages/pandas/core/frame.pyc\u001b[0m in \u001b[0;36m__getitem__\u001b[0;34m(self, key)\u001b[0m\n\u001b[1;32m   1789\u001b[0m             \u001b[0;32mreturn\u001b[0m \u001b[0mself\u001b[0m\u001b[0;34m.\u001b[0m\u001b[0m_getitem_multilevel\u001b[0m\u001b[0;34m(\u001b[0m\u001b[0mkey\u001b[0m\u001b[0;34m)\u001b[0m\u001b[0;34m\u001b[0m\u001b[0m\n\u001b[1;32m   1790\u001b[0m         \u001b[0;32melse\u001b[0m\u001b[0;34m:\u001b[0m\u001b[0;34m\u001b[0m\u001b[0m\n\u001b[0;32m-> 1791\u001b[0;31m             \u001b[0;32mreturn\u001b[0m \u001b[0mself\u001b[0m\u001b[0;34m.\u001b[0m\u001b[0m_getitem_column\u001b[0m\u001b[0;34m(\u001b[0m\u001b[0mkey\u001b[0m\u001b[0;34m)\u001b[0m\u001b[0;34m\u001b[0m\u001b[0m\n\u001b[0m\u001b[1;32m   1792\u001b[0m \u001b[0;34m\u001b[0m\u001b[0m\n\u001b[1;32m   1793\u001b[0m     \u001b[0;32mdef\u001b[0m \u001b[0m_getitem_column\u001b[0m\u001b[0;34m(\u001b[0m\u001b[0mself\u001b[0m\u001b[0;34m,\u001b[0m \u001b[0mkey\u001b[0m\u001b[0;34m)\u001b[0m\u001b[0;34m:\u001b[0m\u001b[0;34m\u001b[0m\u001b[0m\n",
      "\u001b[0;32m//anaconda/lib/python2.7/site-packages/pandas/core/frame.pyc\u001b[0m in \u001b[0;36m_getitem_column\u001b[0;34m(self, key)\u001b[0m\n\u001b[1;32m   1796\u001b[0m         \u001b[0;31m# get column\u001b[0m\u001b[0;34m\u001b[0m\u001b[0;34m\u001b[0m\u001b[0m\n\u001b[1;32m   1797\u001b[0m         \u001b[0;32mif\u001b[0m \u001b[0mself\u001b[0m\u001b[0;34m.\u001b[0m\u001b[0mcolumns\u001b[0m\u001b[0;34m.\u001b[0m\u001b[0mis_unique\u001b[0m\u001b[0;34m:\u001b[0m\u001b[0;34m\u001b[0m\u001b[0m\n\u001b[0;32m-> 1798\u001b[0;31m             \u001b[0;32mreturn\u001b[0m \u001b[0mself\u001b[0m\u001b[0;34m.\u001b[0m\u001b[0m_get_item_cache\u001b[0m\u001b[0;34m(\u001b[0m\u001b[0mkey\u001b[0m\u001b[0;34m)\u001b[0m\u001b[0;34m\u001b[0m\u001b[0m\n\u001b[0m\u001b[1;32m   1799\u001b[0m \u001b[0;34m\u001b[0m\u001b[0m\n\u001b[1;32m   1800\u001b[0m         \u001b[0;31m# duplicate columns & possible reduce dimensionaility\u001b[0m\u001b[0;34m\u001b[0m\u001b[0;34m\u001b[0m\u001b[0m\n",
      "\u001b[0;32m//anaconda/lib/python2.7/site-packages/pandas/core/generic.pyc\u001b[0m in \u001b[0;36m_get_item_cache\u001b[0;34m(self, item)\u001b[0m\n\u001b[1;32m   1082\u001b[0m         \u001b[0mres\u001b[0m \u001b[0;34m=\u001b[0m \u001b[0mcache\u001b[0m\u001b[0;34m.\u001b[0m\u001b[0mget\u001b[0m\u001b[0;34m(\u001b[0m\u001b[0mitem\u001b[0m\u001b[0;34m)\u001b[0m\u001b[0;34m\u001b[0m\u001b[0m\n\u001b[1;32m   1083\u001b[0m         \u001b[0;32mif\u001b[0m \u001b[0mres\u001b[0m \u001b[0;32mis\u001b[0m \u001b[0mNone\u001b[0m\u001b[0;34m:\u001b[0m\u001b[0;34m\u001b[0m\u001b[0m\n\u001b[0;32m-> 1084\u001b[0;31m             \u001b[0mvalues\u001b[0m \u001b[0;34m=\u001b[0m \u001b[0mself\u001b[0m\u001b[0;34m.\u001b[0m\u001b[0m_data\u001b[0m\u001b[0;34m.\u001b[0m\u001b[0mget\u001b[0m\u001b[0;34m(\u001b[0m\u001b[0mitem\u001b[0m\u001b[0;34m)\u001b[0m\u001b[0;34m\u001b[0m\u001b[0m\n\u001b[0m\u001b[1;32m   1085\u001b[0m             \u001b[0mres\u001b[0m \u001b[0;34m=\u001b[0m \u001b[0mself\u001b[0m\u001b[0;34m.\u001b[0m\u001b[0m_box_item_values\u001b[0m\u001b[0;34m(\u001b[0m\u001b[0mitem\u001b[0m\u001b[0;34m,\u001b[0m \u001b[0mvalues\u001b[0m\u001b[0;34m)\u001b[0m\u001b[0;34m\u001b[0m\u001b[0m\n\u001b[1;32m   1086\u001b[0m             \u001b[0mcache\u001b[0m\u001b[0;34m[\u001b[0m\u001b[0mitem\u001b[0m\u001b[0;34m]\u001b[0m \u001b[0;34m=\u001b[0m \u001b[0mres\u001b[0m\u001b[0;34m\u001b[0m\u001b[0m\n",
      "\u001b[0;32m//anaconda/lib/python2.7/site-packages/pandas/core/internals.pyc\u001b[0m in \u001b[0;36mget\u001b[0;34m(self, item, fastpath)\u001b[0m\n\u001b[1;32m   2849\u001b[0m \u001b[0;34m\u001b[0m\u001b[0m\n\u001b[1;32m   2850\u001b[0m             \u001b[0;32mif\u001b[0m \u001b[0;32mnot\u001b[0m \u001b[0misnull\u001b[0m\u001b[0;34m(\u001b[0m\u001b[0mitem\u001b[0m\u001b[0;34m)\u001b[0m\u001b[0;34m:\u001b[0m\u001b[0;34m\u001b[0m\u001b[0m\n\u001b[0;32m-> 2851\u001b[0;31m                 \u001b[0mloc\u001b[0m \u001b[0;34m=\u001b[0m \u001b[0mself\u001b[0m\u001b[0;34m.\u001b[0m\u001b[0mitems\u001b[0m\u001b[0;34m.\u001b[0m\u001b[0mget_loc\u001b[0m\u001b[0;34m(\u001b[0m\u001b[0mitem\u001b[0m\u001b[0;34m)\u001b[0m\u001b[0;34m\u001b[0m\u001b[0m\n\u001b[0m\u001b[1;32m   2852\u001b[0m             \u001b[0;32melse\u001b[0m\u001b[0;34m:\u001b[0m\u001b[0;34m\u001b[0m\u001b[0m\n\u001b[1;32m   2853\u001b[0m                 \u001b[0mindexer\u001b[0m \u001b[0;34m=\u001b[0m \u001b[0mnp\u001b[0m\u001b[0;34m.\u001b[0m\u001b[0marange\u001b[0m\u001b[0;34m(\u001b[0m\u001b[0mlen\u001b[0m\u001b[0;34m(\u001b[0m\u001b[0mself\u001b[0m\u001b[0;34m.\u001b[0m\u001b[0mitems\u001b[0m\u001b[0;34m)\u001b[0m\u001b[0;34m)\u001b[0m\u001b[0;34m[\u001b[0m\u001b[0misnull\u001b[0m\u001b[0;34m(\u001b[0m\u001b[0mself\u001b[0m\u001b[0;34m.\u001b[0m\u001b[0mitems\u001b[0m\u001b[0;34m)\u001b[0m\u001b[0;34m]\u001b[0m\u001b[0;34m\u001b[0m\u001b[0m\n",
      "\u001b[0;32m//anaconda/lib/python2.7/site-packages/pandas/core/index.pyc\u001b[0m in \u001b[0;36mget_loc\u001b[0;34m(self, key, method)\u001b[0m\n\u001b[1;32m   1576\u001b[0m         \"\"\"\n\u001b[1;32m   1577\u001b[0m         \u001b[0;32mif\u001b[0m \u001b[0mmethod\u001b[0m \u001b[0;32mis\u001b[0m \u001b[0mNone\u001b[0m\u001b[0;34m:\u001b[0m\u001b[0;34m\u001b[0m\u001b[0m\n\u001b[0;32m-> 1578\u001b[0;31m             \u001b[0;32mreturn\u001b[0m \u001b[0mself\u001b[0m\u001b[0;34m.\u001b[0m\u001b[0m_engine\u001b[0m\u001b[0;34m.\u001b[0m\u001b[0mget_loc\u001b[0m\u001b[0;34m(\u001b[0m\u001b[0m_values_from_object\u001b[0m\u001b[0;34m(\u001b[0m\u001b[0mkey\u001b[0m\u001b[0;34m)\u001b[0m\u001b[0;34m)\u001b[0m\u001b[0;34m\u001b[0m\u001b[0m\n\u001b[0m\u001b[1;32m   1579\u001b[0m \u001b[0;34m\u001b[0m\u001b[0m\n\u001b[1;32m   1580\u001b[0m         \u001b[0mindexer\u001b[0m \u001b[0;34m=\u001b[0m \u001b[0mself\u001b[0m\u001b[0;34m.\u001b[0m\u001b[0mget_indexer\u001b[0m\u001b[0;34m(\u001b[0m\u001b[0;34m[\u001b[0m\u001b[0mkey\u001b[0m\u001b[0;34m]\u001b[0m\u001b[0;34m,\u001b[0m \u001b[0mmethod\u001b[0m\u001b[0;34m=\u001b[0m\u001b[0mmethod\u001b[0m\u001b[0;34m)\u001b[0m\u001b[0;34m\u001b[0m\u001b[0m\n",
      "\u001b[0;32mpandas/index.pyx\u001b[0m in \u001b[0;36mpandas.index.IndexEngine.get_loc (pandas/index.c:3824)\u001b[0;34m()\u001b[0m\n",
      "\u001b[0;32mpandas/index.pyx\u001b[0m in \u001b[0;36mpandas.index.IndexEngine.get_loc (pandas/index.c:3704)\u001b[0;34m()\u001b[0m\n",
      "\u001b[0;32mpandas/hashtable.pyx\u001b[0m in \u001b[0;36mpandas.hashtable.PyObjectHashTable.get_item (pandas/hashtable.c:12349)\u001b[0;34m()\u001b[0m\n",
      "\u001b[0;32mpandas/hashtable.pyx\u001b[0m in \u001b[0;36mpandas.hashtable.PyObjectHashTable.get_item (pandas/hashtable.c:12300)\u001b[0;34m()\u001b[0m\n",
      "\u001b[0;31mKeyError\u001b[0m: 0"
     ]
    }
   ],
   "source": [
    "x = [1,2,3]\n",
    "plt.pyplot.bar( x,[predictions[0],average_stats[0] , true_stats[0]])"
   ]
  },
  {
   "cell_type": "code",
   "execution_count": null,
   "metadata": {
    "collapsed": true
   },
   "outputs": [],
   "source": [
    "a = [x for x in score if x != 2]"
   ]
  },
  {
   "cell_type": "code",
   "execution_count": null,
   "metadata": {
    "collapsed": false
   },
   "outputs": [],
   "source": [
    "a.count(1)/len(a)\n",
    "\n"
   ]
  },
  {
   "cell_type": "code",
   "execution_count": null,
   "metadata": {
    "collapsed": false
   },
   "outputs": [],
   "source": [
    "def get_min(x):\n",
    "    match = re.search('(\\w+):(\\w+)', x)\n",
    "    minute = float(match.group(1))\n",
    "    second = float(match.group(2))/60\n",
    "    timet = minute+second\n",
    "    return timet"
   ]
  },
  {
   "cell_type": "code",
   "execution_count": null,
   "metadata": {
    "collapsed": false
   },
   "outputs": [],
   "source": [
    "df_minx = df_min.applymap(lambda x: get_min(x))\n",
    "df_minx"
   ]
  },
  {
   "cell_type": "code",
   "execution_count": null,
   "metadata": {
    "collapsed": false
   },
   "outputs": [],
   "source": [
    "df_minx.std()"
   ]
  },
  {
   "cell_type": "code",
   "execution_count": null,
   "metadata": {
    "collapsed": true
   },
   "outputs": [],
   "source": [
    "%matplotlib inline\n",
    "import matplotlib.pyplot as plt\n",
    "import seaborn as sns\n",
    "sns.set_context('talk')\n",
    "sns.set_style('darkgrid')"
   ]
  },
  {
   "cell_type": "code",
   "execution_count": null,
   "metadata": {
    "collapsed": false
   },
   "outputs": [],
   "source": [
    "plt.rcParams['figure.figsize'] = 12, 8 \n",
    "fig, ax = plt.subplots()\n",
    "ind = np.arange(len(f_pre[30:62])) \n",
    "width = 0.35\n",
    "rects1 = ax.bar(ind, f_pre[30:62], width, color='r',label='Prediction')\n",
    "\n",
    "rects2 = ax.bar(ind+width, f_tru[30:62], width, color='k',label ='Truth')\n",
    "\n",
    "rects3 = ax.plot(f_avg[30:62],color='y',linewidth=10,label='Average')\n",
    "\n",
    "ax.legend(loc='upper right',prop={'size':20})\n",
    "plt.xlabel('Game of the Season',fontsize=30)\n",
    "plt.ylabel('Fanduel Metric',fontsize=30)\n",
    "plt.title('Gordon Hayward',fontsize=35) \n",
    "plt.xticks('xtick', labelsize=30) \n",
    "plt.yticks('ytick', labelsize=30) \n",
    "plt.ylim((0,60))\n",
    "plt.savefig('GH.png')"
   ]
  },
  {
   "cell_type": "code",
   "execution_count": null,
   "metadata": {
    "collapsed": true
   },
   "outputs": [],
   "source": []
  }
 ],
 "metadata": {
  "kernelspec": {
   "display_name": "Python 2",
   "language": "python",
   "name": "python2"
  },
  "language_info": {
   "codemirror_mode": {
    "name": "ipython",
    "version": 2
   },
   "file_extension": ".py",
   "mimetype": "text/x-python",
   "name": "python",
   "nbconvert_exporter": "python",
   "pygments_lexer": "ipython2",
   "version": "2.7.10"
  }
 },
 "nbformat": 4,
 "nbformat_minor": 0
}

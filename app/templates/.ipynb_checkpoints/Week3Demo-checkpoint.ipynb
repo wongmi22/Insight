{
 "cells": [
  {
   "cell_type": "code",
   "execution_count": 23,
   "metadata": {
    "collapsed": false
   },
   "outputs": [
    {
     "name": "stdout",
     "output_type": "stream",
     "text": [
      "al horford\n",
      "al jefferson\n",
      "amir johnson\n"
     ]
    },
    {
     "ename": "KeyboardInterrupt",
     "evalue": "",
     "output_type": "error",
     "traceback": [
      "\u001b[0;31m---------------------------------------------------------------------------\u001b[0m",
      "\u001b[0;31mKeyboardInterrupt\u001b[0m                         Traceback (most recent call last)",
      "\u001b[0;32m<ipython-input-23-ba28ef74113a>\u001b[0m in \u001b[0;36m<module>\u001b[0;34m()\u001b[0m\n\u001b[1;32m    102\u001b[0m             \u001b[0mdf_train_2015\u001b[0m \u001b[0;34m=\u001b[0m \u001b[0mpd\u001b[0m\u001b[0;34m.\u001b[0m\u001b[0mread_sql\u001b[0m\u001b[0;34m(\u001b[0m\u001b[0mcmd_train_2015\u001b[0m\u001b[0;34m,\u001b[0m \u001b[0mcon\u001b[0m\u001b[0;34m=\u001b[0m\u001b[0mconn\u001b[0m\u001b[0;34m)\u001b[0m\u001b[0;34m\u001b[0m\u001b[0m\n\u001b[1;32m    103\u001b[0m             \u001b[0mdf_train_2014\u001b[0m \u001b[0;34m=\u001b[0m \u001b[0mpd\u001b[0m\u001b[0;34m.\u001b[0m\u001b[0mread_sql\u001b[0m\u001b[0;34m(\u001b[0m\u001b[0mcmd_train_2014\u001b[0m\u001b[0;34m,\u001b[0m \u001b[0mcon\u001b[0m\u001b[0;34m=\u001b[0m\u001b[0mconn\u001b[0m\u001b[0;34m)\u001b[0m\u001b[0;34m\u001b[0m\u001b[0m\n\u001b[0;32m--> 104\u001b[0;31m             \u001b[0mdf_operate\u001b[0m \u001b[0;34m=\u001b[0m \u001b[0mpd\u001b[0m\u001b[0;34m.\u001b[0m\u001b[0mread_sql\u001b[0m\u001b[0;34m(\u001b[0m\u001b[0mcmd_operate\u001b[0m\u001b[0;34m,\u001b[0m \u001b[0mcon\u001b[0m\u001b[0;34m=\u001b[0m\u001b[0mconn\u001b[0m\u001b[0;34m)\u001b[0m\u001b[0;34m\u001b[0m\u001b[0m\n\u001b[0m\u001b[1;32m    105\u001b[0m             \u001b[0mdf_truth\u001b[0m \u001b[0;34m=\u001b[0m \u001b[0mpd\u001b[0m\u001b[0;34m.\u001b[0m\u001b[0mread_sql\u001b[0m\u001b[0;34m(\u001b[0m\u001b[0mcmd_truth\u001b[0m\u001b[0;34m,\u001b[0m \u001b[0mcon\u001b[0m\u001b[0;34m=\u001b[0m\u001b[0mconn\u001b[0m\u001b[0;34m)\u001b[0m\u001b[0;34m\u001b[0m\u001b[0m\n\u001b[1;32m    106\u001b[0m             \u001b[0mdf_truth\u001b[0m \u001b[0;34m=\u001b[0m \u001b[0mdf_truth\u001b[0m\u001b[0;34m.\u001b[0m\u001b[0mapplymap\u001b[0m\u001b[0;34m(\u001b[0m\u001b[0;32mlambda\u001b[0m \u001b[0mx\u001b[0m\u001b[0;34m:\u001b[0m \u001b[0mfloat\u001b[0m\u001b[0;34m(\u001b[0m\u001b[0mx\u001b[0m\u001b[0;34m)\u001b[0m\u001b[0;34m)\u001b[0m\u001b[0;34m\u001b[0m\u001b[0m\n",
      "\u001b[0;32m//anaconda/lib/python2.7/site-packages/pandas/io/sql.pyc\u001b[0m in \u001b[0;36mread_sql\u001b[0;34m(sql, con, index_col, coerce_float, params, parse_dates, columns, chunksize)\u001b[0m\n\u001b[1;32m    476\u001b[0m             \u001b[0msql\u001b[0m\u001b[0;34m,\u001b[0m \u001b[0mindex_col\u001b[0m\u001b[0;34m=\u001b[0m\u001b[0mindex_col\u001b[0m\u001b[0;34m,\u001b[0m \u001b[0mparams\u001b[0m\u001b[0;34m=\u001b[0m\u001b[0mparams\u001b[0m\u001b[0;34m,\u001b[0m\u001b[0;34m\u001b[0m\u001b[0m\n\u001b[1;32m    477\u001b[0m             \u001b[0mcoerce_float\u001b[0m\u001b[0;34m=\u001b[0m\u001b[0mcoerce_float\u001b[0m\u001b[0;34m,\u001b[0m \u001b[0mparse_dates\u001b[0m\u001b[0;34m=\u001b[0m\u001b[0mparse_dates\u001b[0m\u001b[0;34m,\u001b[0m\u001b[0;34m\u001b[0m\u001b[0m\n\u001b[0;32m--> 478\u001b[0;31m             chunksize=chunksize)\n\u001b[0m\u001b[1;32m    479\u001b[0m \u001b[0;34m\u001b[0m\u001b[0m\n\u001b[1;32m    480\u001b[0m     \u001b[0;32mtry\u001b[0m\u001b[0;34m:\u001b[0m\u001b[0;34m\u001b[0m\u001b[0m\n",
      "\u001b[0;32m//anaconda/lib/python2.7/site-packages/pandas/io/sql.pyc\u001b[0m in \u001b[0;36mread_query\u001b[0;34m(self, sql, index_col, coerce_float, params, parse_dates, chunksize)\u001b[0m\n\u001b[1;32m   1502\u001b[0m \u001b[0;34m\u001b[0m\u001b[0m\n\u001b[1;32m   1503\u001b[0m         \u001b[0margs\u001b[0m \u001b[0;34m=\u001b[0m \u001b[0m_convert_params\u001b[0m\u001b[0;34m(\u001b[0m\u001b[0msql\u001b[0m\u001b[0;34m,\u001b[0m \u001b[0mparams\u001b[0m\u001b[0;34m)\u001b[0m\u001b[0;34m\u001b[0m\u001b[0m\n\u001b[0;32m-> 1504\u001b[0;31m         \u001b[0mcursor\u001b[0m \u001b[0;34m=\u001b[0m \u001b[0mself\u001b[0m\u001b[0;34m.\u001b[0m\u001b[0mexecute\u001b[0m\u001b[0;34m(\u001b[0m\u001b[0;34m*\u001b[0m\u001b[0margs\u001b[0m\u001b[0;34m)\u001b[0m\u001b[0;34m\u001b[0m\u001b[0m\n\u001b[0m\u001b[1;32m   1505\u001b[0m         \u001b[0mcolumns\u001b[0m \u001b[0;34m=\u001b[0m \u001b[0;34m[\u001b[0m\u001b[0mcol_desc\u001b[0m\u001b[0;34m[\u001b[0m\u001b[0;36m0\u001b[0m\u001b[0;34m]\u001b[0m \u001b[0;32mfor\u001b[0m \u001b[0mcol_desc\u001b[0m \u001b[0;32min\u001b[0m \u001b[0mcursor\u001b[0m\u001b[0;34m.\u001b[0m\u001b[0mdescription\u001b[0m\u001b[0;34m]\u001b[0m\u001b[0;34m\u001b[0m\u001b[0m\n\u001b[1;32m   1506\u001b[0m \u001b[0;34m\u001b[0m\u001b[0m\n",
      "\u001b[0;32m//anaconda/lib/python2.7/site-packages/pandas/io/sql.pyc\u001b[0m in \u001b[0;36mexecute\u001b[0;34m(self, *args, **kwargs)\u001b[0m\n\u001b[1;32m   1470\u001b[0m                 \u001b[0mcur\u001b[0m\u001b[0;34m.\u001b[0m\u001b[0mexecute\u001b[0m\u001b[0;34m(\u001b[0m\u001b[0;34m*\u001b[0m\u001b[0margs\u001b[0m\u001b[0;34m,\u001b[0m \u001b[0;34m**\u001b[0m\u001b[0mkwargs\u001b[0m\u001b[0;34m)\u001b[0m\u001b[0;34m\u001b[0m\u001b[0m\n\u001b[1;32m   1471\u001b[0m             \u001b[0;32melse\u001b[0m\u001b[0;34m:\u001b[0m\u001b[0;34m\u001b[0m\u001b[0m\n\u001b[0;32m-> 1472\u001b[0;31m                 \u001b[0mcur\u001b[0m\u001b[0;34m.\u001b[0m\u001b[0mexecute\u001b[0m\u001b[0;34m(\u001b[0m\u001b[0;34m*\u001b[0m\u001b[0margs\u001b[0m\u001b[0;34m)\u001b[0m\u001b[0;34m\u001b[0m\u001b[0m\n\u001b[0m\u001b[1;32m   1473\u001b[0m             \u001b[0;32mreturn\u001b[0m \u001b[0mcur\u001b[0m\u001b[0;34m\u001b[0m\u001b[0m\n\u001b[1;32m   1474\u001b[0m         \u001b[0;32mexcept\u001b[0m \u001b[0mException\u001b[0m \u001b[0;32mas\u001b[0m \u001b[0mexc\u001b[0m\u001b[0;34m:\u001b[0m\u001b[0;34m\u001b[0m\u001b[0m\n",
      "\u001b[0;32m//anaconda/lib/python2.7/site-packages/MySQL_python-1.2.3-py2.7-macosx-10.5-x86_64.egg/MySQLdb/cursors.py\u001b[0m in \u001b[0;36mexecute\u001b[0;34m(self, query, args)\u001b[0m\n\u001b[1;32m    172\u001b[0m             \u001b[0;32mdel\u001b[0m \u001b[0mtb\u001b[0m\u001b[0;34m\u001b[0m\u001b[0m\n\u001b[1;32m    173\u001b[0m             \u001b[0mself\u001b[0m\u001b[0;34m.\u001b[0m\u001b[0mmessages\u001b[0m\u001b[0;34m.\u001b[0m\u001b[0mappend\u001b[0m\u001b[0;34m(\u001b[0m\u001b[0;34m(\u001b[0m\u001b[0mexc\u001b[0m\u001b[0;34m,\u001b[0m \u001b[0mvalue\u001b[0m\u001b[0;34m)\u001b[0m\u001b[0;34m)\u001b[0m\u001b[0;34m\u001b[0m\u001b[0m\n\u001b[0;32m--> 174\u001b[0;31m             \u001b[0mself\u001b[0m\u001b[0;34m.\u001b[0m\u001b[0merrorhandler\u001b[0m\u001b[0;34m(\u001b[0m\u001b[0mself\u001b[0m\u001b[0;34m,\u001b[0m \u001b[0mexc\u001b[0m\u001b[0;34m,\u001b[0m \u001b[0mvalue\u001b[0m\u001b[0;34m)\u001b[0m\u001b[0;34m\u001b[0m\u001b[0m\n\u001b[0m\u001b[1;32m    175\u001b[0m         \u001b[0mself\u001b[0m\u001b[0;34m.\u001b[0m\u001b[0m_executed\u001b[0m \u001b[0;34m=\u001b[0m \u001b[0mquery\u001b[0m\u001b[0;34m\u001b[0m\u001b[0m\n\u001b[1;32m    176\u001b[0m         \u001b[0;32mif\u001b[0m \u001b[0;32mnot\u001b[0m \u001b[0mself\u001b[0m\u001b[0;34m.\u001b[0m\u001b[0m_defer_warnings\u001b[0m\u001b[0;34m:\u001b[0m \u001b[0mself\u001b[0m\u001b[0;34m.\u001b[0m\u001b[0m_warning_check\u001b[0m\u001b[0;34m(\u001b[0m\u001b[0;34m)\u001b[0m\u001b[0;34m\u001b[0m\u001b[0m\n",
      "\u001b[0;32m//anaconda/lib/python2.7/site-packages/MySQL_python-1.2.3-py2.7-macosx-10.5-x86_64.egg/MySQLdb/connections.py\u001b[0m in \u001b[0;36mdefaulterrorhandler\u001b[0;34m(***failed resolving arguments***)\u001b[0m\n\u001b[1;32m     34\u001b[0m     \u001b[0;32mdel\u001b[0m \u001b[0mcursor\u001b[0m\u001b[0;34m\u001b[0m\u001b[0m\n\u001b[1;32m     35\u001b[0m     \u001b[0;32mdel\u001b[0m \u001b[0mconnection\u001b[0m\u001b[0;34m\u001b[0m\u001b[0m\n\u001b[0;32m---> 36\u001b[0;31m     \u001b[0;32mraise\u001b[0m \u001b[0merrorclass\u001b[0m\u001b[0;34m,\u001b[0m \u001b[0merrorvalue\u001b[0m\u001b[0;34m\u001b[0m\u001b[0m\n\u001b[0m\u001b[1;32m     37\u001b[0m \u001b[0;34m\u001b[0m\u001b[0m\n\u001b[1;32m     38\u001b[0m \u001b[0mre_numeric_part\u001b[0m \u001b[0;34m=\u001b[0m \u001b[0mre\u001b[0m\u001b[0;34m.\u001b[0m\u001b[0mcompile\u001b[0m\u001b[0;34m(\u001b[0m\u001b[0;34mr\"^(\\d+)\"\u001b[0m\u001b[0;34m)\u001b[0m\u001b[0;34m\u001b[0m\u001b[0m\n",
      "\u001b[0;31mKeyboardInterrupt\u001b[0m: "
     ]
    }
   ],
   "source": [
    "from __future__ import division\n",
    "import MySQLdb\n",
    "import MySQLdb.cursors\n",
    "import pandas as pd\n",
    "from sklearn import preprocessing\n",
    "from sklearn.ensemble import RandomForestClassifier\n",
    "from sklearn.ensemble import RandomForestRegressor\n",
    "from sklearn.linear_model import LinearRegression as LinR\n",
    "import numpy as np\n",
    "import sys\n",
    "import re\n",
    "import matplotlib as plt\n",
    "from sklearn.decomposition import PCA\n",
    "import scipy as sp\n",
    "\n",
    "\n",
    "\n",
    "def get_fanduel(predict,avg,tru):\n",
    "    fanduel_pre = predict[0]+predict[2]*1.2+predict[3]*1.5+predict[4]*2+predict[5]*2-predict[6]\n",
    "    fanduel_avg = avg[0]+avg[2]*1.2+avg[3]*1.5+avg[4]*2+avg[5]*2-avg[6]\n",
    "    fanduel_tru = tru[0]+tru[2]*1.2+tru[3]*1.5+tru[4]*2+tru[5]*2-tru[6]\n",
    "    return fanduel_pre, fanduel_avg, fanduel_tru\n",
    "\n",
    "\n",
    "\n",
    "def get_trend(fan_pre,fan_avg,fan_tru):\n",
    "    \n",
    "    if (fan_pre > fan_avg) and (fan_tru > fan_avg):\n",
    "        val = 1\n",
    "    elif (fan_pre < fan_avg) and (fan_tru < fan_avg):\n",
    "        val = 1\n",
    "    elif (fan_pre < fan_avg) and (fan_tru > fan_avg):\n",
    "        val = 0\n",
    "    elif (fan_pre > fan_avg) and (fan_tru < fan_avg):    \n",
    "        val = 0\n",
    "    else:\n",
    "        val = 2\n",
    "    return val\n",
    "\n",
    "\n",
    "\n",
    "conn = MySQLdb.connect(\n",
    "            user=\"root\",\n",
    "            passwd=\"\",\n",
    "            db=\"Player_Team_Data\",\n",
    "            cursorclass=MySQLdb.cursors.DictCursor)\n",
    "\n",
    "\n",
    "# In[97]:\n",
    "# read in AllPlayerNames .csv from basketball-reference\n",
    "df_all_players = pd.read_csv('~/Insight/Players100.csv')\n",
    "    # Remove rows that were separated by random 'Player' entries\n",
    "df_all_players = df_all_players[df_all_players.Name != 'Player']\n",
    "\n",
    "name_list=list(df_all_players.values)\n",
    "new_name_list = []\n",
    "\n",
    "for name in name_list:\n",
    "        # convert entries to strings\n",
    "    name = str(name)\n",
    "    new_name_list.append(name)\n",
    "\n",
    "unique_name_list=list(set(new_name_list))\n",
    "unique_name_list.sort()\n",
    "name_list_final = []\n",
    "for name in unique_name_list:\n",
    "    match = re.search('([\\w\\.\\-\\']+) ([\\w\\.\\-]+)', name)\n",
    "    prename = match.group(1).lower()[1:] + ' ' + match.group(2).lower()\n",
    "    name_list_final.append(prename)\n",
    "\n",
    "name_list_fin = [x for x in name_list_final if x != 'george hill']\n",
    "\n",
    "validation={}\n",
    "\n",
    "for player in name_list_fin:\n",
    "    print player\n",
    "    cmd_Rk= 'SELECT Rk FROM NBA_player_data WHERE Player_Name IN (\\'' + player + '\\')  AND Year IN (\\'2015\\');'\n",
    "    df_Rk = pd.read_sql(cmd_Rk, con=conn) \n",
    "\n",
    "    f_pre = []\n",
    "    f_avg = []\n",
    "    f_tru = []\n",
    "    prediction_list = []\n",
    "    average_list = []\n",
    "    true_list = []\n",
    "    if len(df_Rk) > 60:\n",
    "        for Rki in df_Rk.Rk:\n",
    "            Rk = str(Rki)\n",
    "            cmd_target_2015 = 'SELECT PTS,3P,TRB,AST,STL,BLK,TOV FROM NBA_player_data_MP WHERE Player_Name IN (\\'' + player + '\\') AND Year IN (\\'2015\\') AND Rk < '+Rk+' ;'\n",
    "            cmd_target_2014 = 'SELECT PTS,3P,TRB,AST,STL,BLK,TOV FROM NBA_player_data_MP WHERE Player_Name IN (\\'' + player + '\\') AND Year IN (\\'2014\\') AND Rk >= '+Rk+' ;'\n",
    "            cmd_train_2015 = 'SELECT MP,Rk,Home_Away,DateDiff,TeamID,Win,OPPG,OTPR,O3Ppercent,ORPG,OBPG,OSPG,DEF,O3PM,OFGpercent,OTPG,OAPG,TPG,SPG,TRBR,OBLKpercent FROM NBA_player_data_MP WHERE Player_Name IN (\\'' + player + '\\') AND Year IN (\\'2015\\') AND Rk < '+Rk+';'\n",
    "            cmd_train_2014 = 'SELECT MP,Rk,Home_Away,DateDiff,TeamID,Win,OPPG,OTPR,O3Ppercent,ORPG,OBPG,OSPG,DEF,O3PM,OFGpercent,OTPG,OAPG,TPG,SPG,TRBR,OBLKpercent FROM NBA_player_data_MP WHERE Player_Name IN (\\'' + player + '\\') AND Year IN (\\'2014\\') AND Rk >= '+Rk+';'\n",
    "            cmd_operate = 'SELECT Rk,Home_Away,DateDiff,TeamID,Win,OPPG,OTPR,O3Ppercent,ORPG,OBPG,OSPG,DEF,O3PM,OFGpercent,OTPG,OAPG,TPG,SPG,TRBR,OBLKpercent FROM NBA_player_data_MP WHERE Player_Name IN (\\'' + player + '\\') AND Year IN (\\'2015\\') AND Rk = '+Rk+';'\n",
    "            cmd_truth = 'SELECT PTS,3P,TRB,AST,STL,BLK,TOV FROM NBA_player_data_MP WHERE Player_Name IN (\\'' + player + '\\') AND Year IN (\\'2015\\') AND Rk = '+Rk+' ;'\n",
    "            cmd_min_2015 = 'SELECT MP FROM NBA_player_data_MP WHERE Player_Name IN (\\'' + player + '\\') AND Year IN (\\'2015\\') AND Rk < '+Rk+';'   \n",
    "            cmd_min_2014 = 'SELECT MP FROM NBA_player_data_MP WHERE Player_Name IN (\\'' + player + '\\') AND Year IN (\\'2015\\') AND Rk >= '+Rk+';'   \n",
    "\n",
    "            df_min_2015 = pd.read_sql(cmd_min_2015, con=conn) \n",
    "            df_min_2014 = pd.read_sql(cmd_min_2014, con=conn) \n",
    "            df_target_2015 = pd.read_sql(cmd_target_2015, con=conn) \n",
    "            df_target_2014 = pd.read_sql(cmd_target_2014, con=conn) \n",
    "            df_train_2015 = pd.read_sql(cmd_train_2015, con=conn) \n",
    "            df_train_2014 = pd.read_sql(cmd_train_2014, con=conn) \n",
    "            df_operate = pd.read_sql(cmd_operate, con=conn) \n",
    "            df_truth = pd.read_sql(cmd_truth, con=conn) \n",
    "            df_truth = df_truth.applymap(lambda x: float(x))\n",
    "\n",
    "            df_min = pd.concat([df_min_2014, df_min_2015],ignore_index=True).applymap(lambda x: float(x))\n",
    "            mean_MP = df_min.mean().values[0]\n",
    "\n",
    "            df_operate['MP'] = mean_MP\n",
    "\n",
    "            df_target=pd.concat([df_target_2014, df_target_2015],ignore_index=True)\n",
    "            df_train=pd.concat([df_train_2014, df_train_2015],ignore_index=True)\n",
    "            df_target = df_target.applymap(lambda x:float(x))\n",
    "            df_train = df_train.applymap(lambda x:float(x))\n",
    "            df_target_2015 = df_target_2015.applymap(lambda x: float(x))\n",
    "\n",
    "            df_inquire = df_operate.applymap(lambda x:float(x))\n",
    "            df_train_plus_inquire=pd.concat([df_train, df_inquire])\n",
    "            df_raw = df_train_plus_inquire.reindex()\n",
    "            df_raw_scaled = df_raw.copy()\n",
    "            df_raw_scaled = df_raw_scaled.applymap(lambda x: np.log(x))\n",
    "            df_raw_transform = df_raw.copy()\n",
    "\n",
    "\n",
    "            df_raw_scaled = df_raw_scaled.apply(lambda x:preprocessing.StandardScaler().fit(x).transform(x))\n",
    "            df_raw_transform = df_raw_transform.apply(lambda x:preprocessing.StandardScaler().fit(x))\n",
    "\n",
    "    #         pca = PCA()\n",
    "    #         pca.fit(df_raw_scaled)\n",
    "    #         pca.n_components=7\n",
    "    #         train_reduced = pca.fit_transform(df_raw_scaled)\n",
    "    #         df_train_reduced=pd.DataFrame(train_reduced)\n",
    "            df_evaluate = df_raw_scaled.tail(1)\n",
    "            df_train_scaled = df_raw_scaled.iloc[:-1]\n",
    "\n",
    "\n",
    "            # rf = RandomForestRegressor(n_estimators=100)\n",
    "            # rf.fit(df_train_scaled, df_target)\n",
    "            # predictions = rf.predict(df_evaluate).round()[0]\n",
    "\n",
    "            PTS = LinR()\n",
    "            PTS.fit(df_train_scaled, df_target.PTS)\n",
    "            pPTS = PTS.predict(df_evaluate)\n",
    "            REB = LinR()\n",
    "            REB.fit(df_train_scaled, df_target.TRB)\n",
    "            pREB = REB.predict(df_evaluate)\n",
    "            AST = LinR()\n",
    "            AST.fit(df_train_scaled, df_target.AST)\n",
    "            pAST = AST.predict(df_evaluate)\n",
    "            TP = LinR()\n",
    "            TP.fit(df_train_scaled, df_target['3P'])\n",
    "            pTP = TP.predict(df_evaluate)\n",
    "            STL = LinR()\n",
    "            STL.fit(df_train_scaled, df_target.STL)\n",
    "            pSTL = STL.predict(df_evaluate)\n",
    "            BLK = LinR()\n",
    "            BLK.fit(df_train_scaled, df_target.BLK)\n",
    "            pBLK = BLK.predict(df_evaluate)\n",
    "            TOV = LinR()\n",
    "            TOV.fit(df_train_scaled, df_target.TOV)\n",
    "            pTOV = TOV.predict(df_evaluate)\n",
    "\n",
    "            predictions = np.asarray([pPTS,pTP,pREB,pAST,pSTL,pBLK,pTOV])\n",
    "\n",
    "            if int(Rk) < 20:\n",
    "                average_stats=df_target.mean()\n",
    "                #average_stats=df_target.mean().round()   \n",
    "            elif int(Rk) >= 20:\n",
    "                #average_stats=df_target_2015.mean().round()\n",
    "                average_stats=df_target_2015.mean()\n",
    "            average_stats=np.asarray(average_stats)\n",
    "            true_stats = np.asarray(df_truth)[0]\n",
    "            fanduel_pre, fanduel_avg, fanduel_tru = get_fanduel(predictions,average_stats,true_stats)\n",
    "            f_pre.append(fanduel_pre)\n",
    "            f_avg.append(fanduel_avg)\n",
    "            f_tru.append(fanduel_tru)\n",
    "            prediction_list.append(predictions)\n",
    "            average_list.append(average_stats)\n",
    "            true_list.append(true_stats)\n",
    "\n",
    "        score =[]\n",
    "        for i,f in enumerate(f_pre):\n",
    "            s=get_trend(f,f_avg[i],f_tru[i])\n",
    "            score.append(s)\n",
    "\n",
    "        ats = [x for x in score if x != 2]\n",
    "        pts =[]\n",
    "        reb = []\n",
    "        ast = []\n",
    "        tp = []\n",
    "        stl =[]\n",
    "        blk =[]\n",
    "        to =[]\n",
    "\n",
    "\n",
    "        for i,pred in enumerate(prediction_list):\n",
    "            p=get_trend(float(prediction_list[i][0]),float(average_list[i][0]),float(true_list[i][0]))\n",
    "            r=get_trend(float(prediction_list[i][2]),float(average_list[i][2]),float(true_list[i][2]))\n",
    "            a=get_trend(float(prediction_list[i][3]),float(average_list[i][3]),float(true_list[i][3]))\n",
    "            tpm=get_trend(float(prediction_list[i][1]),float(average_list[i][1]),float(true_list[i][1]))\n",
    "            s=get_trend(float(prediction_list[i][4]),float(average_list[i][4]),float(true_list[i][4]))\n",
    "            b=get_trend(float(prediction_list[i][5]),float(average_list[i][5]),float(true_list[i][5]))\n",
    "            t=get_trend(float(prediction_list[i][6]),float(average_list[i][6]),float(true_list[i][6]))\n",
    "\n",
    "            pts.append(p)\n",
    "            reb.append(r)\n",
    "            ast.append(a)\n",
    "            tp.append(tpm)\n",
    "            stl.append(s)\n",
    "            blk.append(b)\n",
    "            to.append(t)\n",
    "\n",
    "        pts = [x for x in pts if x != 2]\n",
    "        reb = [x for x in reb if x != 2]\n",
    "        ast = [x for x in ast if x != 2]\n",
    "        tp = [x for x in tp if x != 2]\n",
    "        stl = [x for x in stl if x != 2]\n",
    "        blk = [x for x in blk if x != 2]\n",
    "        to = [x for x in to if x != 2]\n",
    "\n",
    "\n",
    "        f_accuracy = round(100*(ats.count(1)/len(ats)),2)\n",
    "        if len(pts) > 0:\n",
    "            pts_accuracy = round(100*(pts.count(1)/len(pts)),2)\n",
    "        else: \n",
    "            pts_accuracy =np.nan\n",
    "        if len(reb) > 0:    \n",
    "            reb_accuracy = round(100*(reb.count(1)/len(reb)),2)\n",
    "        else:\n",
    "            reb_accuracy =np.nan\n",
    "        if len(ast) > 0:\n",
    "            ast_accuracy = round(100*(ast.count(1)/len(ast)),2)\n",
    "        else:\n",
    "            ast_accuracy =np.nan\n",
    "        if len(tp) > 0:\n",
    "            tp_accuracy = round(100*(tp.count(1)/len(tp)),2)\n",
    "        else:\n",
    "            tp_accuracy =np.nan\n",
    "        if len(stl) > 0:\n",
    "            stl_accuracy = round(100*(stl.count(1)/len(stl)),2)\n",
    "        else:\n",
    "            stl_accuracy =np.nan\n",
    "        if len(blk) > 0:\n",
    "            blk_accuracy = round(100*(blk.count(1)/len(blk)),2)\n",
    "        else:\n",
    "            blk_accuracy =np.nan\n",
    "        if len(to) > 0:\n",
    "            to_accuracy = round(100*(to.count(1)/len(to)),2)\n",
    "        else:\n",
    "            to_accuracy =np.nan\n",
    "        val_values=[f_accuracy, pts_accuracy,tp_accuracy,reb_accuracy,ast_accuracy,stl_accuracy,blk_accuracy,to_accuracy]  \n",
    "    else:\n",
    "        val_values =[np.nan,np.nan,np.nan,np.nan,np.nan,np.nan,np.nan,np.nan]\n",
    "    validation[player] = val_values\n",
    "df_validation = pd.DataFrame(validation, index = ['Fanduel','Points','TPM','Rebounds','Assists','Steals','Blocks','TO'])"
   ]
  },
  {
   "cell_type": "code",
   "execution_count": null,
   "metadata": {
    "collapsed": false
   },
   "outputs": [],
   "source": [
    "df_validation.T.Blocks.mean()"
   ]
  },
  {
   "cell_type": "code",
   "execution_count": null,
   "metadata": {
    "collapsed": false
   },
   "outputs": [],
   "source": [
    "df_validation"
   ]
  },
  {
   "cell_type": "code",
   "execution_count": null,
   "metadata": {
    "collapsed": false
   },
   "outputs": [],
   "source": [
    "df_val = df_validation.T.reindex()"
   ]
  },
  {
   "cell_type": "code",
   "execution_count": null,
   "metadata": {
    "collapsed": false
   },
   "outputs": [],
   "source": [
    "df_val"
   ]
  },
  {
   "cell_type": "code",
   "execution_count": null,
   "metadata": {
    "collapsed": false
   },
   "outputs": [],
   "source": [
    "df_val=df_val.reset_index()"
   ]
  },
  {
   "cell_type": "code",
   "execution_count": null,
   "metadata": {
    "collapsed": false
   },
   "outputs": [],
   "source": [
    "df_value=df_val.rename(columns={'index': 'Player_Name','TO':'TOV'})"
   ]
  },
  {
   "cell_type": "code",
   "execution_count": null,
   "metadata": {
    "collapsed": false
   },
   "outputs": [],
   "source": [
    "from sqlalchemy import create_engine\n",
    "from sqlalchemy.types import String\n",
    "df_value"
   ]
  },
  {
   "cell_type": "code",
   "execution_count": null,
   "metadata": {
    "collapsed": false
   },
   "outputs": [],
   "source": [
    "df_value.Fanduel.std()"
   ]
  },
  {
   "cell_type": "code",
   "execution_count": null,
   "metadata": {
    "collapsed": false
   },
   "outputs": [],
   "source": [
    "df_value.to_csv('Validation_60G.csv')"
   ]
  },
  {
   "cell_type": "code",
   "execution_count": null,
   "metadata": {
    "collapsed": false
   },
   "outputs": [],
   "source": [
    "%matplotlib inline\n",
    "import matplotlib.pyplot as plt\n",
    "import seaborn as sns\n",
    "sns.set_context('talk')\n",
    "sns.set_style('darkgrid')\n",
    "df_value.mean().plot(kind='bar', yerr=df_value.std())\n",
    "\n",
    "plt.ylabel('Validation Accuracy %',fontsize=30)\n",
    "plt.title('Validation',fontsize=35) \n",
    "plt.rc('xtick', labelsize=30) \n",
    "plt.rc('ytick', labelsize=30) \n",
    "plt.tick_params(axis='both', which='major', labelsize=30)\n",
    "plt.tick_params(axis='both', which='minor', labelsize=30)\n",
    "plt.ylim((40,60))\n",
    "plt.savefig('vd.png')"
   ]
  },
  {
   "cell_type": "code",
   "execution_count": null,
   "metadata": {
    "collapsed": false
   },
   "outputs": [],
   "source": [
    "df_value.sort(columns=['Blocks'])"
   ]
  },
  {
   "cell_type": "code",
   "execution_count": null,
   "metadata": {
    "collapsed": false
   },
   "outputs": [],
   "source": [
    "16.2+5.1*1.2+5.2*1.5+1.4*2+0.5*2-2.8"
   ]
  },
  {
   "cell_type": "code",
   "execution_count": null,
   "metadata": {
    "collapsed": false
   },
   "outputs": [],
   "source": [
    "19.3+4.9*1.2+4.1*1.5+1.4*2+0.4*2-2.7"
   ]
  },
  {
   "cell_type": "code",
   "execution_count": null,
   "metadata": {
    "collapsed": true
   },
   "outputs": [],
   "source": []
  }
 ],
 "metadata": {
  "kernelspec": {
   "display_name": "Python 2",
   "language": "python",
   "name": "python2"
  },
  "language_info": {
   "codemirror_mode": {
    "name": "ipython",
    "version": 2
   },
   "file_extension": ".py",
   "mimetype": "text/x-python",
   "name": "python",
   "nbconvert_exporter": "python",
   "pygments_lexer": "ipython2",
   "version": "2.7.10"
  }
 },
 "nbformat": 4,
 "nbformat_minor": 0
}

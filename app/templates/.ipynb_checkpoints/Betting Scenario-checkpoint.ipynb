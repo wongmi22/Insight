{
 "cells": [
  {
   "cell_type": "code",
   "execution_count": 73,
   "metadata": {
    "collapsed": false
   },
   "outputs": [
    {
     "name": "stdout",
     "output_type": "stream",
     "text": [
      "al horford\n",
      "al jefferson\n",
      "amir johnson\n",
      "andre drummond\n",
      "anthony davis\n",
      "arron afflalo\n",
      "avery bradley\n",
      "ben mclemore\n",
      "blake griffin\n",
      "bradley beal\n",
      "brandon bass\n",
      "brandon knight\n",
      "brook lopez\n",
      "carlos boozer\n",
      "carmelo anthony\n",
      "chris bosh\n",
      "chris paul\n",
      "corey brewer\n",
      "courtney lee\n",
      "damian lillard\n",
      "danny green\n",
      "david west\n",
      "deandre jordan\n",
      "demarcus cousins\n",
      "demarre carroll\n",
      "demar derozan\n",
      "deron williams\n",
      "derrick favors\n",
      "dion waiters\n",
      "dirk nowitzki\n",
      "draymond green\n",
      "dwyane wade\n",
      "enes kanter\n",
      "eric bledsoe\n",
      "gerald green\n",
      "gerald henderson\n",
      "giannis antetokounmpo\n",
      "goran dragic\n",
      "gordon hayward\n",
      "gorgui dieng\n",
      "harrison barnes\n",
      "isaiah thomas\n",
      "jamal crawford\n",
      "james harden\n",
      "jarrett jack\n",
      "jeff green\n",
      "jeff teague\n",
      "jeremy lin\n",
      "jimmy butler\n",
      "joe johnson\n",
      "john wall\n",
      "jonas valanciunas\n",
      "jordan hill\n",
      "josh smith\n",
      "kawhi leonard\n",
      "kenneth faried\n",
      "kentavious caldwell-pope\n",
      "kevin durant\n",
      "kevin love\n",
      "khris middleton\n",
      "klay thompson\n",
      "kyle korver\n",
      "kyle lowry\n",
      "kyrie irving\n",
      "lamarcus aldridge\n",
      "lebron james\n",
      "louis williams\n",
      "luol deng\n",
      "manu ginobili\n",
      "marc gasol\n",
      "marcin gortat\n",
      "mario chalmers\n",
      "markieff morris\n",
      "michael carter-williams\n",
      "mike conley\n",
      "monta ellis\n",
      "nene hilario\n",
      "nikola vucevic\n",
      "pau gasol\n",
      "paul millsap\n",
      "paul pierce\n",
      "reggie jackson\n",
      "rodney stuckey\n",
      "roy hibbert\n",
      "rudy gay\n",
      "russell westbrook\n",
      "serge ibaka\n",
      "stephen curry\n",
      "thaddeus young\n",
      "tim duncan\n",
      "tony parker\n",
      "trevor ariza\n",
      "trey burke\n",
      "ty lawson\n",
      "tyreke evans\n",
      "tyson chandler\n",
      "victor oladipo\n",
      "wilson chandler\n",
      "zach randolph\n"
     ]
    }
   ],
   "source": [
    "from __future__ import division\n",
    "import MySQLdb\n",
    "import MySQLdb.cursors\n",
    "import pandas as pd\n",
    "from sklearn import preprocessing\n",
    "from sklearn.ensemble import RandomForestClassifier\n",
    "from sklearn.ensemble import RandomForestRegressor\n",
    "from sklearn.linear_model import LinearRegression as LinR\n",
    "import numpy as np\n",
    "import sys\n",
    "import re\n",
    "import matplotlib as plt\n",
    "from sklearn.decomposition import PCA\n",
    "import scipy as sp\n",
    "\n",
    "\n",
    "\n",
    "def get_fanduel(predict,avg,tru):\n",
    "    fanduel_pre = predict[0]+predict[2]*1.2+predict[3]*1.5+predict[4]*2+predict[5]*2-predict[6]\n",
    "    fanduel_avg = avg[0]+avg[2]*1.2+avg[3]*1.5+avg[4]*2+avg[5]*2-avg[6]\n",
    "    fanduel_tru = tru[0]+tru[2]*1.2+tru[3]*1.5+tru[4]*2+tru[5]*2-tru[6]\n",
    "    return fanduel_pre, fanduel_avg, fanduel_tru\n",
    "\n",
    "\n",
    "\n",
    "def get_trend(fan_pre,fan_avg,fan_tru):\n",
    "    \n",
    "    if (fan_pre > fan_avg) and (fan_tru > fan_avg):\n",
    "        val = 1\n",
    "    elif (fan_pre < fan_avg) and (fan_tru < fan_avg):\n",
    "        val = 1\n",
    "    elif (fan_pre < fan_avg) and (fan_tru > fan_avg):\n",
    "        val = 0\n",
    "    elif (fan_pre > fan_avg) and (fan_tru < fan_avg):    \n",
    "        val = 0\n",
    "    else:\n",
    "        val = 2\n",
    "    return val\n",
    "\n",
    "\n",
    "\n",
    "conn = MySQLdb.connect(\n",
    "            user=\"root\",\n",
    "            passwd=\"\",\n",
    "            db=\"Player_Team_Data\",\n",
    "            cursorclass=MySQLdb.cursors.DictCursor)\n",
    "\n",
    "\n",
    "# In[97]:\n",
    "# read in AllPlayerNames .csv from basketball-reference\n",
    "df_all_players = pd.read_csv('~/Insight/Players100.csv')\n",
    "    # Remove rows that were separated by random 'Player' entries\n",
    "df_all_players = df_all_players[df_all_players.Name != 'Player']\n",
    "\n",
    "name_list=list(df_all_players.values)\n",
    "new_name_list = []\n",
    "\n",
    "for name in name_list:\n",
    "        # convert entries to strings\n",
    "    name = str(name)\n",
    "    new_name_list.append(name)\n",
    "\n",
    "unique_name_list=list(set(new_name_list))\n",
    "unique_name_list.sort()\n",
    "name_list_final = []\n",
    "for name in unique_name_list:\n",
    "    match = re.search('([\\w\\.\\-\\']+) ([\\w\\.\\-]+)', name)\n",
    "    prename = match.group(1).lower()[1:] + ' ' + match.group(2).lower()\n",
    "    name_list_final.append(prename)\n",
    "\n",
    "name_list_fin = [x for x in name_list_final if x != 'george hill']\n",
    "\n",
    "validation={}\n",
    "pdiff_pre ={}\n",
    "pdiff_avg = {}\n",
    "\n",
    "for player in name_list_fin:\n",
    "    print player\n",
    "    cmd_Rk= 'SELECT Rk FROM NBA_player_data WHERE Player_Name IN (\\'' + player + '\\')  AND Year IN (\\'2015\\');'\n",
    "    df_Rk = pd.read_sql(cmd_Rk, con=conn) \n",
    "\n",
    "    f_pre = []\n",
    "    f_avg = []\n",
    "    f_tru = []\n",
    "    prediction_list = []\n",
    "    average_list = []\n",
    "    true_list = []\n",
    "    pdPTS = []\n",
    "    pdTP = []\n",
    "    pdREB = []\n",
    "    pdAST = []\n",
    "    pdSTL = []\n",
    "    pdBLK = []\n",
    "    pdTOV = []\n",
    "    apdPTS = []\n",
    "    apdTP = []\n",
    "    apdREB = []\n",
    "    apdAST = []\n",
    "    apdSTL = []\n",
    "    apdBLK = []\n",
    "    apdTOV = []\n",
    "    \n",
    "    if len(df_Rk) >0:\n",
    "        for Rki in df_Rk.Rk:\n",
    "            Rk = str(Rki)\n",
    "            cmd_target_2015 = 'SELECT PTS,3P,TRB,AST,STL,BLK,TOV FROM NBA_player_data_MP WHERE Player_Name IN (\\'' + player + '\\') AND Year IN (\\'2015\\') AND Rk < '+Rk+' ;'\n",
    "            cmd_target_2014 = 'SELECT PTS,3P,TRB,AST,STL,BLK,TOV FROM NBA_player_data_MP WHERE Player_Name IN (\\'' + player + '\\') AND Year IN (\\'2014\\') AND Rk >= '+Rk+' ;'\n",
    "            cmd_train_2015 = 'SELECT MP,Rk,Home_Away,DateDiff,TeamID,Win,OPPG,OTPR,O3Ppercent,ORPG,OBPG,OSPG,DEF,O3PM,OFGpercent,OTPG,OAPG,TPG,SPG,TRBR,OBLKpercent FROM NBA_player_data_MP WHERE Player_Name IN (\\'' + player + '\\') AND Year IN (\\'2015\\') AND Rk < '+Rk+';'\n",
    "            cmd_train_2014 = 'SELECT MP,Rk,Home_Away,DateDiff,TeamID,Win,OPPG,OTPR,O3Ppercent,ORPG,OBPG,OSPG,DEF,O3PM,OFGpercent,OTPG,OAPG,TPG,SPG,TRBR,OBLKpercent FROM NBA_player_data_MP WHERE Player_Name IN (\\'' + player + '\\') AND Year IN (\\'2014\\') AND Rk >= '+Rk+';'\n",
    "            cmd_operate = 'SELECT Rk,Home_Away,DateDiff,TeamID,Win,OPPG,OTPR,O3Ppercent,ORPG,OBPG,OSPG,DEF,O3PM,OFGpercent,OTPG,OAPG,TPG,SPG,TRBR,OBLKpercent FROM NBA_player_data_MP WHERE Player_Name IN (\\'' + player + '\\') AND Year IN (\\'2015\\') AND Rk = '+Rk+';'\n",
    "            cmd_truth = 'SELECT PTS,3P,TRB,AST,STL,BLK,TOV FROM NBA_player_data_MP WHERE Player_Name IN (\\'' + player + '\\') AND Year IN (\\'2015\\') AND Rk = '+Rk+' ;'\n",
    "            cmd_min_2015 = 'SELECT MP FROM NBA_player_data_MP WHERE Player_Name IN (\\'' + player + '\\') AND Year IN (\\'2015\\') AND Rk < '+Rk+';'   \n",
    "            cmd_min_2014 = 'SELECT MP FROM NBA_player_data_MP WHERE Player_Name IN (\\'' + player + '\\') AND Year IN (\\'2015\\') AND Rk >= '+Rk+';'   \n",
    "\n",
    "            df_min_2015 = pd.read_sql(cmd_min_2015, con=conn) \n",
    "            df_min_2014 = pd.read_sql(cmd_min_2014, con=conn) \n",
    "            df_target_2015 = pd.read_sql(cmd_target_2015, con=conn) \n",
    "            df_target_2014 = pd.read_sql(cmd_target_2014, con=conn) \n",
    "            df_train_2015 = pd.read_sql(cmd_train_2015, con=conn) \n",
    "            df_train_2014 = pd.read_sql(cmd_train_2014, con=conn) \n",
    "            df_operate = pd.read_sql(cmd_operate, con=conn) \n",
    "            df_truth = pd.read_sql(cmd_truth, con=conn) \n",
    "            df_truth = df_truth.applymap(lambda x: float(x))\n",
    "\n",
    "            df_min = pd.concat([df_min_2014, df_min_2015],ignore_index=True).applymap(lambda x: float(x))\n",
    "            mean_MP = df_min.mean().values[0]\n",
    "\n",
    "            df_operate['MP'] = mean_MP\n",
    "\n",
    "            df_target=pd.concat([df_target_2014, df_target_2015],ignore_index=True)\n",
    "            df_train=pd.concat([df_train_2014, df_train_2015],ignore_index=True)\n",
    "            df_target = df_target.applymap(lambda x:float(x))\n",
    "            df_train = df_train.applymap(lambda x:float(x))\n",
    "            df_target_2015 = df_target_2015.applymap(lambda x: float(x))\n",
    "\n",
    "            df_inquire = df_operate.applymap(lambda x:float(x))\n",
    "            df_train_plus_inquire=pd.concat([df_train, df_inquire])\n",
    "            df_raw = df_train_plus_inquire.reindex()\n",
    "            df_raw_scaled = df_raw.copy()\n",
    "            df_raw_scaled = df_raw_scaled.applymap(lambda x: np.log(x))\n",
    "            df_raw_transform = df_raw.copy()\n",
    "\n",
    "\n",
    "            df_raw_scaled = df_raw_scaled.apply(lambda x:preprocessing.StandardScaler().fit(x).transform(x))\n",
    "            df_raw_transform = df_raw_transform.apply(lambda x:preprocessing.StandardScaler().fit(x))\n",
    "\n",
    "    #         pca = PCA()\n",
    "    #         pca.fit(df_raw_scaled)\n",
    "    #         pca.n_components=7\n",
    "    #         train_reduced = pca.fit_transform(df_raw_scaled)\n",
    "    #         df_train_reduced=pd.DataFrame(train_reduced)\n",
    "            df_evaluate = df_raw_scaled.tail(1)\n",
    "            df_train_scaled = df_raw_scaled.iloc[:-1]\n",
    "\n",
    "\n",
    "            # rf = RandomForestRegressor(n_estimators=100)\n",
    "            # rf.fit(df_train_scaled, df_target)\n",
    "            # predictions = rf.predict(df_evaluate).round()[0]\n",
    "\n",
    "            PTS = LinR()\n",
    "            PTS.fit(df_train_scaled, df_target.PTS)\n",
    "            pPTS = PTS.predict(df_evaluate)\n",
    "            REB = LinR()\n",
    "            REB.fit(df_train_scaled, df_target.TRB)\n",
    "            pREB = REB.predict(df_evaluate)\n",
    "            AST = LinR()\n",
    "            AST.fit(df_train_scaled, df_target.AST)\n",
    "            pAST = AST.predict(df_evaluate)\n",
    "            TP = LinR()\n",
    "            TP.fit(df_train_scaled, df_target['3P'])\n",
    "            pTP = TP.predict(df_evaluate)\n",
    "            STL = LinR()\n",
    "            STL.fit(df_train_scaled, df_target.STL)\n",
    "            pSTL = STL.predict(df_evaluate)\n",
    "            BLK = LinR()\n",
    "            BLK.fit(df_train_scaled, df_target.BLK)\n",
    "            pBLK = BLK.predict(df_evaluate)\n",
    "            TOV = LinR()\n",
    "            TOV.fit(df_train_scaled, df_target.TOV)\n",
    "            pTOV = TOV.predict(df_evaluate)\n",
    "\n",
    "            predictions = np.asarray([pPTS,pTP,pREB,pAST,pSTL,pBLK,pTOV])\n",
    "\n",
    "            if int(Rk) < 20:\n",
    "                average_stats=df_target.mean()\n",
    "                #average_stats=df_target.mean().round()   \n",
    "            elif int(Rk) >= 20:\n",
    "                #average_stats=df_target_2015.mean().round()\n",
    "                average_stats=df_target_2015.mean()\n",
    "            average_stats=np.asarray(average_stats)\n",
    "            true_stats = np.asarray(df_truth)[0]\n",
    "            fanduel_pre, fanduel_avg, fanduel_tru = get_fanduel(predictions,average_stats,true_stats)\n",
    "            f_pre.append(fanduel_pre)\n",
    "            f_avg.append(fanduel_avg)\n",
    "            f_tru.append(fanduel_tru)\n",
    "            prediction_list.append(predictions)\n",
    "            average_list.append(average_stats)\n",
    "            true_list.append(true_stats)\n",
    "            PTS_pd= 2*(pPTS-true_stats[0])/(pPTS+true_stats[0])\n",
    "            TP_pd = 2*(pTP-true_stats[1])/(pTP+true_stats[1])\n",
    "            REB_pd = 2*(pREB-true_stats[2])/(pREB+true_stats[2])\n",
    "            AST_pd = 2*(pAST-true_stats[3])/(pAST+true_stats[3])\n",
    "            STL_pd = 2*(pSTL-true_stats[4])/(pSTL+true_stats[4])\n",
    "            BLK_pd = 2*(pBLK-true_stats[5])/(pBLK+true_stats[5])\n",
    "            TOV_pd = 2*(pTOV-true_stats[6])/(pTOV+true_stats[6])\n",
    "            PTS_apd= 2*(pPTS-average_stats[0])/(pPTS+average_stats[0])\n",
    "            TP_apd = 2*(pTP-average_stats[1])/(pTP+average_stats[1])\n",
    "            REB_apd = 2*(pREB-average_stats[2])/(pREB+average_stats[2])\n",
    "            AST_apd = 2*(pAST-average_stats[3])/(pAST+average_stats[3])\n",
    "            STL_apd = 2*(pSTL-average_stats[4])/(pSTL+average_stats[4])\n",
    "            BLK_apd = 2*(pBLK-average_stats[5])/(pBLK+average_stats[5])\n",
    "            TOV_apd = 2*(pTOV-average_stats[6])/(pTOV+average_stats[6])\n",
    "            pdPTS.append(PTS_pd)\n",
    "            pdTP.append(TP_pd)\n",
    "            pdREB.append(REB_pd)\n",
    "            pdAST.append(AST_pd)\n",
    "            pdSTL.append(STL_pd)\n",
    "            pdBLK.append(BLK_pd)\n",
    "            pdTOV.append(TOV_pd)\n",
    "            apdPTS.append(PTS_apd)\n",
    "            apdTP.append(TP_apd)\n",
    "            apdREB.append(REB_apd)\n",
    "            apdAST.append(AST_apd)\n",
    "            apdSTL.append(STL_apd)\n",
    "            apdBLK.append(BLK_apd)\n",
    "            apdTOV.append(TOV_apd)\n",
    "        mPTS = np.asarray(pdPTS).mean()*100\n",
    "        mTP = np.asarray(pdTP).mean()*100\n",
    "        mREB = np.asarray(pdREB).mean()*100\n",
    "        mAST = np.asarray(pdAST).mean()*100\n",
    "        mSTL = np.asarray(pdSTL).mean()*100\n",
    "        mBLK = np.asarray(pdBLK).mean()*100\n",
    "        mTOV = np.asarray(pdTOV).mean()*100\n",
    "        maPTS = np.asarray(apdPTS).mean()*100\n",
    "        maTP = np.asarray(apdTP).mean()*100\n",
    "        maREB = np.asarray(apdREB).mean()*100\n",
    "        maAST = np.asarray(apdAST).mean()*100\n",
    "        maSTL = np.asarray(apdSTL).mean()*100\n",
    "        maBLK = np.asarray(apdBLK).mean()*100\n",
    "        maTOV = np.asarray(apdTOV).mean()*100\n",
    "        pval_values = [mPTS,mTP,mREB,mAST,mSTL,mBLK,mTOV]\n",
    "        mval_values = [maPTS,maTP,maREB,maAST,maSTL,maBLK,maTOV]    \n",
    "    else:\n",
    "        pval_values =[np.nan,np.nan,np.nan,np.nan,np.nan,np.nan,np.nan,np.nan]\n",
    "        mval_values =[np.nan,np.nan,np.nan,np.nan,np.nan,np.nan,np.nan,np.nan]\n",
    "        \n",
    "    \n",
    "    pdiff_pre[player] = pval_values\n",
    "    pdiff_avg[player] = mval_values\n",
    "df_validation = pd.DataFrame(validation, index = ['Fanduel','Points','TPM','Rebounds','Assists','Steals','Blocks','TO'])"
   ]
  },
  {
   "cell_type": "code",
   "execution_count": 74,
   "metadata": {
    "collapsed": false
   },
   "outputs": [],
   "source": [
    "df_pdiff_avg=pd.DataFrame(pdiff_avg,index=['Points', 'TP', 'Rebounds', 'Assists', 'Steals', 'Blocks', 'TOV']).T\n",
    "df_pdiff_pre=pd.DataFrame(pdiff_pre,index=['Points', 'TP', 'Rebounds', 'Assists', 'Steals', 'Blocks', 'TOV']).T\n",
    "df_pdiff_avg=df_pdiff_avg.abs().reset_index().rename(columns={'index': 'Player_Name'})\n",
    "df_pdiff_pre=df_pdiff_pre.abs().reset_index().rename(columns={'index': 'Player_Name'})\n",
    "df_pdiff_pre['Mode']= 'Prediction'\n",
    "df_pdiff_avg['Mode']= 'Average'"
   ]
  },
  {
   "cell_type": "code",
   "execution_count": 75,
   "metadata": {
    "collapsed": false
   },
   "outputs": [],
   "source": [
    "df_pdiff_s = pd.concat([df_pdiff_pre,df_pdiff_avg])\n",
    "df_pdiff_s.to_csv('percent_difference100.csv')"
   ]
  },
  {
   "cell_type": "code",
   "execution_count": null,
   "metadata": {
    "collapsed": false
   },
   "outputs": [],
   "source": []
  },
  {
   "cell_type": "code",
   "execution_count": 76,
   "metadata": {
    "collapsed": false
   },
   "outputs": [],
   "source": [
    "df_val=df_val.reset_index()"
   ]
  },
  {
   "cell_type": "code",
   "execution_count": 77,
   "metadata": {
    "collapsed": false
   },
   "outputs": [],
   "source": [
    "df_value=df_val.rename(columns={'index': 'Player_Name','TO':'TOV'})"
   ]
  },
  {
   "cell_type": "code",
   "execution_count": 78,
   "metadata": {
    "collapsed": false
   },
   "outputs": [
    {
     "ename": "SyntaxError",
     "evalue": "invalid syntax (<ipython-input-78-4173365dce7b>, line 3)",
     "output_type": "error",
     "traceback": [
      "\u001b[0;36m  File \u001b[0;32m\"<ipython-input-78-4173365dce7b>\"\u001b[0;36m, line \u001b[0;32m3\u001b[0m\n\u001b[0;31m    df_value.\u001b[0m\n\u001b[0m             ^\u001b[0m\n\u001b[0;31mSyntaxError\u001b[0m\u001b[0;31m:\u001b[0m invalid syntax\n"
     ]
    }
   ],
   "source": [
    "from sqlalchemy import create_engine\n",
    "from sqlalchemy.types import String\n",
    "df_value."
   ]
  },
  {
   "cell_type": "code",
   "execution_count": null,
   "metadata": {
    "collapsed": false
   },
   "outputs": [],
   "source": [
    "df_value.Fanduel.std()"
   ]
  },
  {
   "cell_type": "code",
   "execution_count": null,
   "metadata": {
    "collapsed": false
   },
   "outputs": [],
   "source": [
    "df_value.to_csv('Validation_60G.csv')"
   ]
  },
  {
   "cell_type": "code",
   "execution_count": null,
   "metadata": {
    "collapsed": false
   },
   "outputs": [],
   "source": [
    "%matplotlib inline\n",
    "import matplotlib.pyplot as plt\n",
    "import seaborn as sns\n",
    "sns.set_context('talk')\n",
    "sns.set_style('darkgrid')\n",
    "df_value.mean().plot(kind='bar', yerr=df_value.std())\n",
    "\n",
    "plt.ylabel('Validation Accuracy %',fontsize=30)\n",
    "plt.title('Validation',fontsize=35) \n",
    "plt.rc('xtick', labelsize=30) \n",
    "plt.rc('ytick', labelsize=30) \n",
    "plt.tick_params(axis='both', which='major', labelsize=30)\n",
    "plt.tick_params(axis='both', which='minor', labelsize=30)\n",
    "plt.ylim((40,60))\n",
    "plt.savefig('vd.png')"
   ]
  },
  {
   "cell_type": "code",
   "execution_count": null,
   "metadata": {
    "collapsed": false
   },
   "outputs": [],
   "source": [
    "df_value.sort(columns=['Fanduel'])"
   ]
  },
  {
   "cell_type": "code",
   "execution_count": null,
   "metadata": {
    "collapsed": false
   },
   "outputs": [],
   "source": [
    "16.2+5.1*1.2+5.2*1.5+1.4*2+0.5*2-2.8"
   ]
  },
  {
   "cell_type": "code",
   "execution_count": null,
   "metadata": {
    "collapsed": false
   },
   "outputs": [],
   "source": [
    "19.3+4.9*1.2+4.1*1.5+1.4*2+0.4*2-2.7"
   ]
  },
  {
   "cell_type": "code",
   "execution_count": null,
   "metadata": {
    "collapsed": false
   },
   "outputs": [],
   "source": [
    "import numpy as np\n",
    "from __future__ import division\n",
    "t=np.asarray([5,6,7,8,9,10])\n",
    "p=np.asarray([5,6,7,8,9,10])\n",
    "a=np.asarray([2,9,10,11,12,14])\n"
   ]
  },
  {
   "cell_type": "code",
   "execution_count": null,
   "metadata": {
    "collapsed": false
   },
   "outputs": [],
   "source": [
    "np.__version__"
   ]
  },
  {
   "cell_type": "code",
   "execution_count": null,
   "metadata": {
    "collapsed": true
   },
   "outputs": [],
   "source": []
  }
 ],
 "metadata": {
  "kernelspec": {
   "display_name": "Python 2",
   "language": "python",
   "name": "python2"
  },
  "language_info": {
   "codemirror_mode": {
    "name": "ipython",
    "version": 2
   },
   "file_extension": ".py",
   "mimetype": "text/x-python",
   "name": "python",
   "nbconvert_exporter": "python",
   "pygments_lexer": "ipython2",
   "version": "2.7.10"
  }
 },
 "nbformat": 4,
 "nbformat_minor": 0
}

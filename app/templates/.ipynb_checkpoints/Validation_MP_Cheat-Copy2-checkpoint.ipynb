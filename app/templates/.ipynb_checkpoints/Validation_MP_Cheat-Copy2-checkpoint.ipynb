{
 "cells": [
  {
   "cell_type": "code",
   "execution_count": 76,
   "metadata": {
    "collapsed": false
   },
   "outputs": [],
   "source": [
    "import MySQLdb\n",
    "import MySQLdb.cursors\n",
    "import pandas as pd\n",
    "from sklearn import preprocessing\n",
    "from sklearn.ensemble import RandomForestClassifier\n",
    "from sklearn.ensemble import RandomForestRegressor\n",
    "from sklearn.linear_model import LinearRegression as LinR\n",
    "import numpy as np\n",
    "import sys\n",
    "import re\n",
    "%matplotlib inline\n",
    "import matplotlib as plt\n",
    "from __future__ import division\n",
    "from sklearn.decomposition import PCA"
   ]
  },
  {
   "cell_type": "code",
   "execution_count": 77,
   "metadata": {
    "collapsed": false
   },
   "outputs": [],
   "source": [
    "conn = MySQLdb.connect(\n",
    "            user=\"root\",\n",
    "            passwd=\"\",\n",
    "            db=\"Player_Team_Data\",\n",
    "            cursorclass=MySQLdb.cursors.DictCursor)"
   ]
  },
  {
   "cell_type": "code",
   "execution_count": 78,
   "metadata": {
    "collapsed": false
   },
   "outputs": [],
   "source": [
    "player = 'jeff teague'\n",
    "cmd_Rk= 'SELECT Rk FROM NBA_player_data WHERE Player_Name IN (\\'' + player + '\\')  AND Year IN (\\'2015\\');'\n",
    "df_Rk = pd.read_sql(cmd_Rk, con=conn) \n",
    "\n",
    "def get_fanduel(predict,avg,tru):\n",
    "    fanduel_pre = predict[0]+predict[2]*1.2+predict[3]*1.5+predict[4]*2+predict[5]*2-predict[6]\n",
    "    fanduel_avg = avg[0]+avg[2]*1.2+avg[3]*1.5+avg[4]*2+avg[5]*2-avg[6]\n",
    "    fanduel_tru = tru[0]+tru[2]*1.2+tru[3]*1.5+tru[4]*2+tru[5]*2-tru[6]\n",
    "    return fanduel_pre, fanduel_avg, fanduel_tru\n",
    "\n",
    "def get_trend(fan_pre,fan_avg,fan_tru):\n",
    "    \n",
    "    if (fan_pre > fan_avg) and (fan_tru > fan_avg):\n",
    "        val = 1\n",
    "    elif (fan_pre < fan_avg) and (fan_tru < fan_avg):\n",
    "        val = 1\n",
    "    elif (fan_pre < fan_avg) and (fan_tru > fan_avg):\n",
    "        val = 0\n",
    "    elif (fan_pre > fan_avg) and (fan_tru < fan_avg):    \n",
    "        val = 0\n",
    "    else:\n",
    "        val = 2\n",
    "    return val"
   ]
  },
  {
   "cell_type": "code",
   "execution_count": 79,
   "metadata": {
    "collapsed": false
   },
   "outputs": [
    {
     "name": "stdout",
     "output_type": "stream",
     "text": [
      "[ 32.62734927]\n",
      "[ 34.44661048]\n",
      "[ 36.22101235]\n",
      "[ 26.9288838]\n",
      "[ 33.93400091]\n",
      "[ 35.66333184]\n",
      "[ 34.427039]\n",
      "[ 23.81092474]\n",
      "[ 36.20241234]\n",
      "[ 32.85035438]\n",
      "[ 27.37719876]\n",
      "[ 32.01909562]\n",
      "[ 23.41844661]\n",
      "[ 32.38681164]\n",
      "[ 33.61892252]\n",
      "[ 30.26551358]\n",
      "[ 35.06690659]\n",
      "[ 33.69537542]\n",
      "[ 36.76592432]\n",
      "[ 32.55652303]\n",
      "[ 31.12316238]\n",
      "[ 36.08965055]\n",
      "[ 36.03656845]\n",
      "[ 32.41972959]\n",
      "[ 33.2456176]\n",
      "[ 33.42598837]\n",
      "[ 31.60669853]\n",
      "[ 29.071997]\n",
      "[ 32.0826677]\n",
      "[ 28.6238063]\n",
      "[ 32.33444736]\n",
      "[ 32.37795567]\n",
      "[ 27.90957638]\n",
      "[ 34.40623877]\n",
      "[ 35.23188313]\n",
      "[ 30.3010009]\n",
      "[ 22.75899765]\n",
      "[ 29.97223753]\n",
      "[ 35.54065059]\n",
      "[ 30.7358222]\n",
      "[ 33.28486775]\n",
      "[ 27.16711228]\n",
      "[ 30.42694386]\n",
      "[ 31.30541776]\n",
      "[ 32.51358743]\n",
      "[ 31.00096868]\n",
      "[ 30.35304844]\n",
      "[ 30.47954057]\n",
      "[ 27.83336722]\n",
      "[ 27.56919954]\n",
      "[ 31.01724757]\n",
      "[ 31.61752124]\n",
      "[ 26.62543299]\n",
      "[ 31.24534193]\n",
      "[ 30.93265351]\n",
      "[ 33.06149359]\n",
      "[ 33.66888174]\n",
      "[ 28.79405119]\n",
      "[ 26.62467668]\n",
      "[ 30.212834]\n",
      "[ 29.07336179]\n",
      "[ 30.11775032]\n",
      "[ 30.05123631]\n",
      "[ 34.33170754]\n",
      "[ 28.96386879]\n",
      "[ 26.4809484]\n",
      "[ 35.12775339]\n",
      "[ 28.40363168]\n",
      "[ 30.02303243]\n",
      "[ 27.2514375]\n",
      "[ 28.99217283]\n",
      "[ 24.98210009]\n",
      "[ 32.47793621]\n"
     ]
    }
   ],
   "source": [
    "f_pre = []\n",
    "f_avg = []\n",
    "f_tru = []\n",
    "\n",
    "for Rki in df_Rk.Rk:\n",
    "    Rk = str(Rki)\n",
    "    cmd_min_2015 = 'SELECT MP FROM NBA_player_data_MP WHERE Player_Name IN (\\'' + player + '\\') AND Year IN (\\'2015\\') AND Rk < '+Rk+';'   \n",
    "    cmd_min_2014 = 'SELECT MP FROM NBA_player_data_MP WHERE Player_Name IN (\\'' + player + '\\') AND Year IN (\\'2014\\') AND Rk >= '+Rk+';'   \n",
    "    cmd_train_wo_mp_2015 = 'SELECT Rk,Home_Away,DateDiff,TeamID,Win,OPPG,OTPR,O3Ppercent,ORPG,OBPG,OSPG,DEF,O3PM,OFGpercent,OTPG,OAPG,TPG,SPG,TRBR,OBLKpercent FROM NBA_player_data_MP WHERE Player_Name IN (\\'' + player + '\\') AND Year IN (\\'2015\\') AND Rk < '+Rk+';'\n",
    "    cmd_train_wo_mp_2014 = 'SELECT Rk,Home_Away,DateDiff,TeamID,Win,OPPG,OTPR,O3Ppercent,ORPG,OBPG,OSPG,DEF,O3PM,OFGpercent,OTPG,OAPG,TPG,SPG,TRBR,OBLKpercent FROM NBA_player_data_MP WHERE Player_Name IN (\\'' + player + '\\') AND Year IN (\\'2014\\') AND Rk >= '+Rk+';'\n",
    "    cmd_operate_mp = 'SELECT Rk,Home_Away,DateDiff,TeamID,Win,OPPG,OTPR,O3Ppercent,ORPG,OBPG,OSPG,DEF,O3PM,OFGpercent,OTPG,OAPG,TPG,SPG,TRBR,OBLKpercent FROM NBA_player_data_MP WHERE Player_Name IN (\\'' + player + '\\') AND Year IN (\\'2015\\') AND Rk = '+Rk+';'\n",
    "    \n",
    "    \n",
    "    #separate\n",
    "    cmd_train_2015 = 'SELECT MP,Rk,Home_Away,DateDiff,TeamID,Win,OPPG,OTPR,O3Ppercent,ORPG,OBPG,OSPG,DEF,O3PM,OFGpercent,OTPG,OAPG,TPG,SPG,TRBR,OBLKpercent FROM NBA_player_data_MP WHERE Player_Name IN (\\'' + player + '\\') AND Year IN (\\'2015\\') AND Rk < '+Rk+';'\n",
    "    cmd_train_2014 = 'SELECT MP,Rk,Home_Away,DateDiff,TeamID,Win,OPPG,OTPR,O3Ppercent,ORPG,OBPG,OSPG,DEF,O3PM,OFGpercent,OTPG,OAPG,TPG,SPG,TRBR,OBLKpercent FROM NBA_player_data_MP WHERE Player_Name IN (\\'' + player + '\\') AND Year IN (\\'2014\\') AND Rk >= '+Rk+';'\n",
    "    cmd_operate = 'SELECT Rk,Home_Away,DateDiff,TeamID,Win,OPPG,OTPR,O3Ppercent,ORPG,OBPG,OSPG,DEF,O3PM,OFGpercent,OTPG,OAPG,TPG,SPG,TRBR,OBLKpercent FROM NBA_player_data_MP WHERE Player_Name IN (\\'' + player + '\\') AND Year IN (\\'2015\\') AND Rk = '+Rk+';'\n",
    "    cmd_truth = 'SELECT PTS,3P,TRB,AST,STL,BLK,TOV FROM NBA_player_data_MP WHERE Player_Name IN (\\'' + player + '\\') AND Year IN (\\'2015\\') AND Rk = '+Rk+' ;'\n",
    "    cmd_target_2015 = 'SELECT PTS,3P,TRB,AST,STL,BLK,TOV FROM NBA_player_data_MP WHERE Player_Name IN (\\'' + player + '\\') AND Year IN (\\'2015\\') AND Rk < '+Rk+' ;'\n",
    "    cmd_target_2014 = 'SELECT PTS,3P,TRB,AST,STL,BLK,TOV FROM NBA_player_data_MP WHERE Player_Name IN (\\'' + player + '\\') AND Year IN (\\'2014\\') AND Rk >= '+Rk+' ;'\n",
    "    \n",
    "    df_min_2015 = pd.read_sql(cmd_min_2015, con=conn) \n",
    "    df_min_2014 = pd.read_sql(cmd_min_2014, con=conn)\n",
    "    df_train_wo_mp_2015 = pd.read_sql(cmd_train_wo_mp_2015, con=conn) \n",
    "    df_train_wo_mp_2014 = pd.read_sql(cmd_train_wo_mp_2014, con=conn)\n",
    "    df_operate_mp = pd.read_sql(cmd_operate_mp, con=conn)\n",
    "    \n",
    "    # separate\n",
    "    df_target_2015 = pd.read_sql(cmd_target_2015, con=conn) \n",
    "    df_target_2014 = pd.read_sql(cmd_target_2014, con=conn) \n",
    "    df_train_2015 = pd.read_sql(cmd_train_2015, con=conn) \n",
    "    df_train_2014 = pd.read_sql(cmd_train_2014, con=conn) \n",
    "    df_operate = pd.read_sql(cmd_operate, con=conn) \n",
    "    df_truth = pd.read_sql(cmd_truth, con=conn) \n",
    "    df_truth = df_truth.applymap(lambda x: float(x))\n",
    "    \n",
    "    df_min = pd.concat([df_min_2014, df_min_2015],ignore_index=True).applymap(lambda x: float(x))\n",
    "    df_train_wo_mp = pd.concat([df_train_wo_mp_2014, df_train_wo_mp_2015],ignore_index=True).applymap(lambda x: float(x))\n",
    "    \n",
    "    df_inquire_mp = df_operate_mp.applymap(lambda x:float(x))\n",
    "    df_train_plus_inquire_mp=pd.concat([df_train_wo_mp, df_inquire_mp])\n",
    "    \n",
    "   \n",
    "    df_raw_mp = df_train_plus_inquire_mp.reindex()\n",
    "    df_raw_scaled_mp = df_raw_mp.copy()\n",
    "    df_raw_scaled_mp = df_raw_scaled_mp.applymap(lambda x: np.log(x))\n",
    "    \n",
    "    df_raw_transform_mp = df_raw_mp.copy()\n",
    "    df_raw_scaled_mp = df_raw_scaled_mp.apply(lambda x:preprocessing.StandardScaler().fit(x).transform(x))\n",
    "    df_raw_transform_mp = df_raw_transform_mp.apply(lambda x:preprocessing.StandardScaler().fit(x))\n",
    "\n",
    "    pca_mp = PCA()\n",
    "    pca_mp.fit(df_raw_scaled_mp)\n",
    "    pca_mp.n_components=7\n",
    "    train_reduced_mp = pca_mp.fit_transform(df_raw_scaled_mp)\n",
    "    df_train_reduced_mp=pd.DataFrame(train_reduced_mp)\n",
    "    \n",
    "    df_evaluate_mp = df_raw_scaled_mp.tail(1)\n",
    "    df_train_scaled_mp = df_raw_scaled_mp.iloc[:-1]\n",
    "    \n",
    "    MP = LinR()\n",
    "    MP.fit(df_train_scaled_mp, df_min.MP)\n",
    "    pMP = MP.predict(df_evaluate_mp)\n",
    "    \n",
    "    \n",
    "    \n",
    "    #separate\n",
    "    df_target=pd.concat([df_target_2014, df_target_2015],ignore_index=True)\n",
    "    df_train=pd.concat([df_train_2014, df_train_2015],ignore_index=True)\n",
    "    df_target = df_target.applymap(lambda x:float(x))\n",
    "    df_train = df_train.applymap(lambda x:float(x))\n",
    "    df_target_2015 = df_target_2015.applymap(lambda x: float(x))\n",
    "    df_inquire = df_operate.applymap(lambda x:float(x))\n",
    "    df_train_plus_inquire=pd.concat([df_train, df_inquire])\n",
    "    df_raw = df_train_plus_inquire.reindex()\n",
    "    df_raw_scaled = df_raw.copy()\n",
    "    df_raw_scaled = df_raw_scaled.applymap(lambda x: np.log(x))\n",
    "    df_raw_transform = df_raw.copy()\n",
    "\n",
    "    df_raw_scaled = df_raw_scaled.apply(lambda x:preprocessing.StandardScaler().fit(x).transform(x))\n",
    "    df_raw_transform = df_raw_transform.apply(lambda x:preprocessing.StandardScaler().fit(x))\n",
    "\n",
    "    pca = PCA()\n",
    "    pca.fit(df_raw_scaled)\n",
    "    pca.n_components=7\n",
    "    train_reduced = pca.fit_transform(df_raw_scaled)\n",
    "    df_train_reduced=pd.DataFrame(train_reduced)\n",
    "    df_evaluate = df_raw_scaled.tail(1)\n",
    "    df_train_scaled = df_raw_scaled.iloc[:-1]\n",
    "    \n",
    "    \n",
    "\n",
    "\n",
    "#     rf = RandomForestRegressor(n_estimators=100)\n",
    "#     rf.fit(df_train_scaled, df_target)\n",
    "#     predictions = rf.predict(df_evaluate).round()[0]\n",
    "    \n",
    "    PTS = LinR()\n",
    "    PTS.fit(df_train_scaled, df_target.PTS)\n",
    "    pPTS = PTS.predict(df_evaluate)\n",
    "    REB = LinR()\n",
    "    REB.fit(df_train_scaled, df_target.TRB)\n",
    "    pREB = REB.predict(df_evaluate)\n",
    "    AST = LinR()\n",
    "    AST.fit(df_train_scaled, df_target.AST)\n",
    "    pAST = AST.predict(df_evaluate)\n",
    "    TP = LinR()\n",
    "    TP.fit(df_train_scaled, df_target['3P'])\n",
    "    pTP = TP.predict(df_evaluate)\n",
    "    STL = LinR()\n",
    "    STL.fit(df_train_scaled, df_target.STL)\n",
    "    pSTL = STL.predict(df_evaluate)\n",
    "    BLK = LinR()\n",
    "    BLK.fit(df_train_scaled, df_target.BLK)\n",
    "    pBLK = BLK.predict(df_evaluate)\n",
    "    TOV = LinR()\n",
    "    TOV.fit(df_train_scaled, df_target.TOV)\n",
    "    pTOV = TOV.predict(df_evaluate)\n",
    "    \n",
    "    predictions = np.asarray([pPTS,pTP,pREB,pAST,pSTL,pBLK,pTOV])\n",
    "    \n",
    "    if int(Rk) < 20:\n",
    "        average_stats=df_target.mean().round()   \n",
    "    elif int(Rk) >= 20:\n",
    "        average_stats=df_target_2015.mean().round()\n",
    "              \n",
    "    average_stats=np.asarray(average_stats)\n",
    "    true_stats = np.asarray(df_truth)[0]\n",
    "    fanduel_pre, fanduel_avg, fanduel_tru = get_fanduel(predictions,average_stats,true_stats)\n",
    "    f_pre.append(fanduel_pre)\n",
    "    f_avg.append(fanduel_avg)\n",
    "    f_tru.append(fanduel_tru)"
   ]
  },
  {
   "cell_type": "code",
   "execution_count": 80,
   "metadata": {
    "collapsed": false
   },
   "outputs": [],
   "source": [
    "score =[]\n",
    "for i,f in enumerate(f_pre):\n",
    "    s=get_trend(f,f_avg[i],f_tru[i])\n",
    "    score.append(s)\n"
   ]
  },
  {
   "cell_type": "code",
   "execution_count": 81,
   "metadata": {
    "collapsed": false
   },
   "outputs": [
    {
     "ename": "NameError",
     "evalue": "name 'predictions' is not defined",
     "output_type": "error",
     "traceback": [
      "\u001b[0;31m---------------------------------------------------------------------------\u001b[0m",
      "\u001b[0;31mNameError\u001b[0m                                 Traceback (most recent call last)",
      "\u001b[0;32m<ipython-input-81-3b6e977f0d94>\u001b[0m in \u001b[0;36m<module>\u001b[0;34m()\u001b[0m\n\u001b[1;32m      1\u001b[0m \u001b[0mx\u001b[0m \u001b[0;34m=\u001b[0m \u001b[0;34m[\u001b[0m\u001b[0;36m1\u001b[0m\u001b[0;34m,\u001b[0m\u001b[0;36m2\u001b[0m\u001b[0;34m,\u001b[0m\u001b[0;36m3\u001b[0m\u001b[0;34m]\u001b[0m\u001b[0;34m\u001b[0m\u001b[0m\n\u001b[0;32m----> 2\u001b[0;31m \u001b[0mplt\u001b[0m\u001b[0;34m.\u001b[0m\u001b[0mpyplot\u001b[0m\u001b[0;34m.\u001b[0m\u001b[0mbar\u001b[0m\u001b[0;34m(\u001b[0m \u001b[0mx\u001b[0m\u001b[0;34m,\u001b[0m\u001b[0;34m[\u001b[0m\u001b[0mpredictions\u001b[0m\u001b[0;34m[\u001b[0m\u001b[0;36m0\u001b[0m\u001b[0;34m]\u001b[0m\u001b[0;34m,\u001b[0m\u001b[0maverage_stats\u001b[0m\u001b[0;34m[\u001b[0m\u001b[0;36m0\u001b[0m\u001b[0;34m]\u001b[0m \u001b[0;34m,\u001b[0m \u001b[0mtrue_stats\u001b[0m\u001b[0;34m[\u001b[0m\u001b[0;36m0\u001b[0m\u001b[0;34m]\u001b[0m\u001b[0;34m]\u001b[0m\u001b[0;34m)\u001b[0m\u001b[0;34m\u001b[0m\u001b[0m\n\u001b[0m",
      "\u001b[0;31mNameError\u001b[0m: name 'predictions' is not defined"
     ]
    }
   ],
   "source": [
    "x = [1,2,3]\n",
    "plt.pyplot.bar( x,[predictions[0],average_stats[0] , true_stats[0]])"
   ]
  },
  {
   "cell_type": "code",
   "execution_count": null,
   "metadata": {
    "collapsed": true
   },
   "outputs": [],
   "source": [
    "a = [x for x in score if x != 2]"
   ]
  },
  {
   "cell_type": "code",
   "execution_count": null,
   "metadata": {
    "collapsed": false
   },
   "outputs": [],
   "source": [
    "a.count(1)/len(a)\n",
    "\n"
   ]
  },
  {
   "cell_type": "code",
   "execution_count": null,
   "metadata": {
    "collapsed": false
   },
   "outputs": [],
   "source": [
    "def get_min(x):\n",
    "    match = re.search('(\\w+):(\\w+)', x)\n",
    "    minute = float(match.group(1))\n",
    "    second = float(match.group(2))/60\n",
    "    timet = minute+second\n",
    "    return timet"
   ]
  },
  {
   "cell_type": "code",
   "execution_count": null,
   "metadata": {
    "collapsed": false
   },
   "outputs": [],
   "source": [
    "df_minx = df_min.applymap(lambda x: np.std)\n",
    "df_minx"
   ]
  },
  {
   "cell_type": "code",
   "execution_count": null,
   "metadata": {
    "collapsed": false
   },
   "outputs": [],
   "source": [
    "df_minx.std()"
   ]
  },
  {
   "cell_type": "code",
   "execution_count": null,
   "metadata": {
    "collapsed": true
   },
   "outputs": [],
   "source": []
  }
 ],
 "metadata": {
  "kernelspec": {
   "display_name": "Python 2",
   "language": "python",
   "name": "python2"
  },
  "language_info": {
   "codemirror_mode": {
    "name": "ipython",
    "version": 2
   },
   "file_extension": ".py",
   "mimetype": "text/x-python",
   "name": "python",
   "nbconvert_exporter": "python",
   "pygments_lexer": "ipython2",
   "version": "2.7.10"
  }
 },
 "nbformat": 4,
 "nbformat_minor": 0
}

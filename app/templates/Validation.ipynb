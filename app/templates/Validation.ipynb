{
 "cells": [
  {
   "cell_type": "code",
   "execution_count": 417,
   "metadata": {
    "collapsed": false
   },
   "outputs": [],
   "source": [
    "import MySQLdb\n",
    "import MySQLdb.cursors\n",
    "import pandas as pd\n",
    "from sklearn import preprocessing\n",
    "from sklearn.ensemble import RandomForestClassifier\n",
    "from sklearn.ensemble import RandomForestRegressor\n",
    "from sklearn.linear_model import LinearRegression as LinR\n",
    "import numpy as np\n",
    "import sys\n",
    "import re\n",
    "%matplotlib inline\n",
    "import matplotlib as plt\n",
    "from __future__ import division"
   ]
  },
  {
   "cell_type": "code",
   "execution_count": 418,
   "metadata": {
    "collapsed": false
   },
   "outputs": [],
   "source": [
    "conn = MySQLdb.connect(\n",
    "            user=\"root\",\n",
    "            passwd=\"\",\n",
    "            db=\"Player_Team_Data\",\n",
    "            cursorclass=MySQLdb.cursors.DictCursor)"
   ]
  },
  {
   "cell_type": "code",
   "execution_count": 419,
   "metadata": {
    "collapsed": false
   },
   "outputs": [],
   "source": [
    "player = 'lebron james'\n",
    "cmd_Rk= 'SELECT Rk FROM NBA_player_data WHERE Player_Name IN (\\'' + player + '\\')  AND Year IN (\\'2015\\');'\n",
    "df_Rk = pd.read_sql(cmd_Rk, con=conn) \n",
    "\n",
    "def get_fanduel(predict,avg,tru):\n",
    "    fanduel_pre = predict[0]+predict[2]*1.2+predict[3]*1.5+predict[4]*2+predict[5]*2-predict[6]\n",
    "    fanduel_avg = avg[0]+avg[2]*1.2+avg[3]*1.5+avg[4]*2+avg[5]*2-avg[6]\n",
    "    fanduel_tru = tru[0]+tru[2]*1.2+tru[3]*1.5+tru[4]*2+tru[5]*2-tru[6]\n",
    "    return fanduel_pre, fanduel_avg, fanduel_tru\n",
    "\n",
    "def get_trend(fan_pre,fan_avg,fan_tru):\n",
    "    \n",
    "    if (fan_pre > fan_avg) and (fan_tru > fan_avg):\n",
    "        val = 1\n",
    "    elif (fan_pre < fan_avg) and (fan_tru < fan_avg):\n",
    "        val = 1\n",
    "    elif (fan_pre < fan_avg) and (fan_tru > fan_avg):\n",
    "        val = 0\n",
    "    elif (fan_pre > fan_avg) and (fan_tru < fan_avg):    \n",
    "        val = 0\n",
    "    else:\n",
    "        val = 2\n",
    "    return val"
   ]
  },
  {
   "cell_type": "code",
   "execution_count": 420,
   "metadata": {
    "collapsed": false
   },
   "outputs": [],
   "source": [
    "f_pre = []\n",
    "f_avg = []\n",
    "f_tru = []\n",
    "for Rki in df_Rk.Rk:\n",
    "    Rk = str(Rki)\n",
    "    cmd_target_2015 = 'SELECT PTS,3P,TRB,AST,STL,BLK,TOV FROM NBA_player_data WHERE Player_Name IN (\\'' + player + '\\') AND Year IN (\\'2015\\') AND Rk < '+Rk+' ;'\n",
    "    cmd_target_2014 = 'SELECT PTS,3P,TRB,AST,STL,BLK,TOV FROM NBA_player_data WHERE Player_Name IN (\\'' + player + '\\') AND Year IN (\\'2014\\') AND Rk >= '+Rk+' ;'\n",
    "    cmd_train_2015 = 'SELECT Rk,Home_Away,DateDiff,TeamID,Win,OPPG,OTPR,O3Ppercent,ORPG,OBPG,OSPG,DEF,O3PM,OFGpercent,OTPG,OAPG,TPG,SPG,TRBR,OBLKpercent FROM NBA_player_data WHERE Player_Name IN (\\'' + player + '\\') AND Year IN (\\'2015\\') AND Rk < '+Rk+';'\n",
    "    cmd_train_2014 = 'SELECT Rk,Home_Away,DateDiff,TeamID,Win,OPPG,OTPR,O3Ppercent,ORPG,OBPG,OSPG,DEF,O3PM,OFGpercent,OTPG,OAPG,TPG,SPG,TRBR,OBLKpercent FROM NBA_player_data WHERE Player_Name IN (\\'' + player + '\\') AND Year IN (\\'2014\\') AND Rk >= '+Rk+';'\n",
    "    cmd_operate = 'SELECT Rk,Home_Away,DateDiff,TeamID,Win,OPPG,OTPR,O3Ppercent,ORPG,OBPG,OSPG,DEF,O3PM,OFGpercent,OTPG,OAPG,TPG,SPG,TRBR,OBLKpercent FROM NBA_player_data WHERE Player_Name IN (\\'' + player + '\\') AND Year IN (\\'2015\\') AND Rk = '+Rk+';'\n",
    "    cmd_truth = 'SELECT PTS,3P,TRB,AST,STL,BLK,TOV FROM NBA_player_data WHERE Player_Name IN (\\'' + player + '\\') AND Year IN (\\'2015\\') AND Rk = '+Rk+' ;'\n",
    "\n",
    "    df_target_2015 = pd.read_sql(cmd_target_2015, con=conn) \n",
    "    df_target_2014 = pd.read_sql(cmd_target_2014, con=conn) \n",
    "    df_train_2015 = pd.read_sql(cmd_train_2015, con=conn) \n",
    "    df_train_2014 = pd.read_sql(cmd_train_2014, con=conn) \n",
    "    df_operate = pd.read_sql(cmd_operate, con=conn) \n",
    "    df_truth = pd.read_sql(cmd_truth, con=conn) \n",
    "    df_truth = df_truth.applymap(lambda x: float(x))\n",
    "\n",
    "    df_target=pd.concat([df_target_2014, df_target_2015],ignore_index=True)\n",
    "    df_train=pd.concat([df_train_2014, df_train_2015],ignore_index=True)\n",
    "    df_target = df_target.applymap(lambda x:float(x))\n",
    "    df_train = df_train.applymap(lambda x:float(x))\n",
    "    df_target_2015 = df_target_2015.applymap(lambda x: float(x))\n",
    "\n",
    "    df_inquire = df_operate.applymap(lambda x:float(x))\n",
    "    df_train_plus_inquire=pd.concat([df_train, df_inquire])\n",
    "    df_raw = df_train_plus_inquire.reindex()\n",
    "    df_raw_scaled = df_raw.copy()\n",
    "    df_raw_scaled = df_raw_scaled.applymap(lambda x: np.log(x))\n",
    "    df_raw_transform = df_raw.copy()\n",
    "\n",
    "    df_raw_scaled = df_raw_scaled.apply(lambda x:preprocessing.StandardScaler().fit(x).transform(x))\n",
    "    df_raw_transform = df_raw_transform.apply(lambda x:preprocessing.StandardScaler().fit(x))\n",
    "    df_evaluate = df_raw_scaled.tail(1)\n",
    "    df_train_scaled = df_raw_scaled.iloc[:-1]\n",
    "\n",
    "#     rf = RandomForestRegressor(n_estimators=100)\n",
    "#     rf.fit(df_train_scaled, df_target)\n",
    "#     predictions = rf.predict(df_evaluate).round()[0]\n",
    "    \n",
    "    PTS = LinR()\n",
    "    PTS.fit(df_train_scaled, df_target.PTS)\n",
    "    pPTS = PTS.predict(df_evaluate)\n",
    "    REB = LinR()\n",
    "    REB.fit(df_train_scaled, df_target.TRB)\n",
    "    pREB = REB.predict(df_evaluate)\n",
    "    AST = LinR()\n",
    "    AST.fit(df_train_scaled, df_target.AST)\n",
    "    pAST = AST.predict(df_evaluate)\n",
    "    TP = LinR()\n",
    "    TP.fit(df_train_scaled, df_target['3P'])\n",
    "    pTP = TP.predict(df_evaluate)\n",
    "    STL = LinR()\n",
    "    STL.fit(df_train_scaled, df_target.STL)\n",
    "    pSTL = STL.predict(df_evaluate)\n",
    "    BLK = LinR()\n",
    "    BLK.fit(df_train_scaled, df_target.BLK)\n",
    "    pBLK = BLK.predict(df_evaluate)\n",
    "    TOV = LinR()\n",
    "    TOV.fit(df_train_scaled, df_target.TOV)\n",
    "    pTOV = TOV.predict(df_evaluate)\n",
    "    \n",
    "    predictions = np.asarray([pPTS,pTP,pREB,pAST,pSTL,pBLK,pTOV])\n",
    "    \n",
    "    if int(Rk) < 20:\n",
    "        average_stats=df_target.mean().round()   \n",
    "    elif int(Rk) >= 20:\n",
    "        average_stats=df_target_2015.mean().round()\n",
    "              \n",
    "    average_stats=np.asarray(average_stats)\n",
    "    true_stats = np.asarray(df_truth)[0]\n",
    "    fanduel_pre, fanduel_avg, fanduel_tru = get_fanduel(predictions,average_stats,true_stats)\n",
    "    f_pre.append(fanduel_pre)\n",
    "    f_avg.append(fanduel_avg)\n",
    "    f_tru.append(fanduel_tru)"
   ]
  },
  {
   "cell_type": "code",
   "execution_count": 421,
   "metadata": {
    "collapsed": false
   },
   "outputs": [
    {
     "data": {
      "text/plain": [
       "0"
      ]
     },
     "execution_count": 421,
     "metadata": {},
     "output_type": "execute_result"
    }
   ],
   "source": [
    "get_trend(fanduel_pre,fanduel_avg,fanduel_tru)\n",
    "\n",
    "    "
   ]
  },
  {
   "cell_type": "code",
   "execution_count": 422,
   "metadata": {
    "collapsed": false
   },
   "outputs": [],
   "source": [
    "score =[]\n",
    "for i,f in enumerate(f_pre):\n",
    "    s=get_trend(f,f_avg[i],f_tru[i])\n",
    "    score.append(s)\n",
    "    "
   ]
  },
  {
   "cell_type": "code",
   "execution_count": 423,
   "metadata": {
    "collapsed": false
   },
   "outputs": [
    {
     "data": {
      "text/plain": [
       "<Container object of 3 artists>"
      ]
     },
     "execution_count": 423,
     "metadata": {},
     "output_type": "execute_result"
    },
    {
     "data": {
      "image/png": "[encoded data removed]",
      "text/plain": [
       "<matplotlib.figure.Figure at 0x10f490c50>"
      ]
     },
     "metadata": {},
     "output_type": "display_data"
    }
   ],
   "source": [
    "x = [1,2,3]\n",
    "plt.pyplot.bar( x,[fanduel_pre, fanduel_avg, fanduel_tru])"
   ]
  },
  {
   "cell_type": "code",
   "execution_count": 424,
   "metadata": {
    "collapsed": false
   },
   "outputs": [],
   "source": [
    "a = [x for x in score if x != 2]\n"
   ]
  },
  {
   "cell_type": "code",
   "execution_count": 425,
   "metadata": {
    "collapsed": false
   },
   "outputs": [
    {
     "data": {
      "text/plain": [
       "0.5217391304347826"
      ]
     },
     "execution_count": 425,
     "metadata": {},
     "output_type": "execute_result"
    }
   ],
   "source": [
    "a.count(1)/len(a)"
   ]
  },
  {
   "cell_type": "code",
   "execution_count": null,
   "metadata": {
    "collapsed": true
   },
   "outputs": [],
   "source": []
  }
 ],
 "metadata": {
  "kernelspec": {
   "display_name": "Python 2",
   "language": "python",
   "name": "python2"
  },
  "language_info": {
   "codemirror_mode": {
    "name": "ipython",
    "version": 2
   },
   "file_extension": ".py",
   "mimetype": "text/x-python",
   "name": "python",
   "nbconvert_exporter": "python",
   "pygments_lexer": "ipython2",
   "version": "2.7.10"
  }
 },
 "nbformat": 4,
 "nbformat_minor": 0
}
